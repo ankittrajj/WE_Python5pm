{
 "cells": [
  {
   "cell_type": "code",
   "execution_count": 1,
   "id": "2801d83a",
   "metadata": {},
   "outputs": [
    {
     "data": {
      "text/plain": [
       "10"
      ]
     },
     "execution_count": 1,
     "metadata": {},
     "output_type": "execute_result"
    }
   ],
   "source": [
    "# lambda\n",
    "# filter\n",
    "# map\n",
    "# reduce\n",
    "\n",
    "a = lambda x,y:x+y\n",
    "a(1,9)\n"
   ]
  },
  {
   "cell_type": "code",
   "execution_count": 2,
   "id": "322b356b",
   "metadata": {},
   "outputs": [
    {
     "ename": "NameError",
     "evalue": "name 'x' is not defined",
     "output_type": "error",
     "traceback": [
      "\u001b[1;31m---------------------------------------------------------------------------\u001b[0m",
      "\u001b[1;31mNameError\u001b[0m                                 Traceback (most recent call last)",
      "\u001b[1;32m~\\AppData\\Local\\Temp/ipykernel_8460/1241024426.py\u001b[0m in \u001b[0;36m<module>\u001b[1;34m\u001b[0m\n\u001b[1;32m----> 1\u001b[1;33m \u001b[0ma\u001b[0m \u001b[1;33m=\u001b[0m \u001b[1;32mlambda\u001b[0m \u001b[0mx\u001b[0m\u001b[1;33m,\u001b[0m\u001b[0my\u001b[0m\u001b[1;33m:\u001b[0m\u001b[0mx\u001b[0m\u001b[1;33m+\u001b[0m\u001b[0my\u001b[0m\u001b[1;33m,\u001b[0m\u001b[0mx\u001b[0m\u001b[1;33m-\u001b[0m\u001b[0my\u001b[0m\u001b[1;33m\u001b[0m\u001b[1;33m\u001b[0m\u001b[0m\n\u001b[0m",
      "\u001b[1;31mNameError\u001b[0m: name 'x' is not defined"
     ]
    }
   ],
   "source": [
    "a = lambda x,y:x+y,x-y"
   ]
  },
  {
   "cell_type": "code",
   "execution_count": 3,
   "id": "e0ca27f6",
   "metadata": {},
   "outputs": [],
   "source": [
    "a = lambda x,y,z,p,q,r:x+y+z-p*q+r"
   ]
  },
  {
   "cell_type": "code",
   "execution_count": 4,
   "id": "15ada51f",
   "metadata": {},
   "outputs": [
    {
     "data": {
      "text/plain": [
       "-8"
      ]
     },
     "execution_count": 4,
     "metadata": {},
     "output_type": "execute_result"
    }
   ],
   "source": [
    "a(1,2,3,4,5,6)"
   ]
  },
  {
   "cell_type": "code",
   "execution_count": 6,
   "id": "21e4ba54",
   "metadata": {},
   "outputs": [
    {
     "name": "stdout",
     "output_type": "stream",
     "text": [
      "23\n",
      "34\n",
      "12\n",
      "23\n",
      "32\n",
      "38\n",
      "29\n"
     ]
    }
   ],
   "source": [
    "#wap to find data less than 40.\n",
    "d = [23,34,45,67,90,12,23,32,38,29]\n",
    "for i in d:\n",
    "    if i<40:\n",
    "        print(i)"
   ]
  },
  {
   "cell_type": "markdown",
   "id": "621659fb",
   "metadata": {},
   "source": [
    "# Filter"
   ]
  },
  {
   "cell_type": "code",
   "execution_count": 13,
   "id": "b2379053",
   "metadata": {},
   "outputs": [
    {
     "name": "stdout",
     "output_type": "stream",
     "text": [
      "[23, 34, 12, 23, 32, 38, 29]\n"
     ]
    }
   ],
   "source": [
    "d = [23,34,45,67,90,12,23,32,38,29]\n",
    "print(list(filter(lambda d:True if d<40 else False,d)))"
   ]
  },
  {
   "cell_type": "code",
   "execution_count": 12,
   "id": "a8e8695d",
   "metadata": {},
   "outputs": [
    {
     "data": {
      "text/plain": [
       "[23, 34, 12, 23, 32, 38, 29]"
      ]
     },
     "execution_count": 12,
     "metadata": {},
     "output_type": "execute_result"
    }
   ],
   "source": [
    "x"
   ]
  },
  {
   "cell_type": "code",
   "execution_count": 15,
   "id": "2efa2fdb",
   "metadata": {},
   "outputs": [
    {
     "data": {
      "text/plain": [
       "True"
      ]
     },
     "execution_count": 15,
     "metadata": {},
     "output_type": "execute_result"
    }
   ],
   "source": [
    "d = [23,34,45,67,90,12,23,32,38,29]\n",
    "def fun(d):\n",
    "    for i in d:\n",
    "        if i<40:\n",
    "            return True\n",
    "        else:\n",
    "            return False\n",
    "\n",
    "fun(d)"
   ]
  },
  {
   "cell_type": "code",
   "execution_count": 16,
   "id": "04d41806",
   "metadata": {},
   "outputs": [
    {
     "data": {
      "text/plain": [
       "[23, 34, 12, 23, 32, 38, 29]"
      ]
     },
     "execution_count": 16,
     "metadata": {},
     "output_type": "execute_result"
    }
   ],
   "source": [
    "# map------> mathematical operation----- filter\n",
    "x"
   ]
  },
  {
   "cell_type": "code",
   "execution_count": 18,
   "id": "e2fb122f",
   "metadata": {},
   "outputs": [
    {
     "data": {
      "text/plain": [
       "(529, 1156, 144, 529, 1024, 1444, 841)"
      ]
     },
     "execution_count": 18,
     "metadata": {},
     "output_type": "execute_result"
    }
   ],
   "source": [
    "tuple(map(lambda a:a**2,x))"
   ]
  },
  {
   "cell_type": "code",
   "execution_count": 20,
   "id": "f3c31794",
   "metadata": {},
   "outputs": [
    {
     "name": "stdout",
     "output_type": "stream",
     "text": [
      "10\n"
     ]
    }
   ],
   "source": [
    "# reduce\n",
    "x = [1,2,3,4]\n",
    "y = 0\n",
    "for i in x:\n",
    "    y = y+i\n",
    "print(y)\n",
    "    "
   ]
  },
  {
   "cell_type": "code",
   "execution_count": 21,
   "id": "2374155d",
   "metadata": {},
   "outputs": [],
   "source": [
    "from functools import reduce"
   ]
  },
  {
   "cell_type": "code",
   "execution_count": 22,
   "id": "ddf5baa0",
   "metadata": {},
   "outputs": [
    {
     "data": {
      "text/plain": [
       "10"
      ]
     },
     "execution_count": 22,
     "metadata": {},
     "output_type": "execute_result"
    }
   ],
   "source": [
    "x = [1,2,3,4]\n",
    "reduce(lambda a,b:a+b,x)\n"
   ]
  },
  {
   "cell_type": "code",
   "execution_count": null,
   "id": "9e5e6fa9",
   "metadata": {},
   "outputs": [],
   "source": []
  }
 ],
 "metadata": {
  "kernelspec": {
   "display_name": "Python 3 (ipykernel)",
   "language": "python",
   "name": "python3"
  },
  "language_info": {
   "codemirror_mode": {
    "name": "ipython",
    "version": 3
   },
   "file_extension": ".py",
   "mimetype": "text/x-python",
   "name": "python",
   "nbconvert_exporter": "python",
   "pygments_lexer": "ipython3",
   "version": "3.9.7"
  }
 },
 "nbformat": 4,
 "nbformat_minor": 5
}
