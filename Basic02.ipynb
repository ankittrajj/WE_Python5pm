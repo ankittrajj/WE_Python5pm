{
 "cells": [
  {
   "cell_type": "code",
   "execution_count": 1,
   "id": "3c66f2ef",
   "metadata": {},
   "outputs": [
    {
     "name": "stdout",
     "output_type": "stream",
     "text": [
      "3\n"
     ]
    }
   ],
   "source": [
    "# User input -----> \n",
    "a=2\n",
    "b=1\n",
    "print(a+b)"
   ]
  },
  {
   "cell_type": "code",
   "execution_count": 4,
   "id": "bd12fc2a",
   "metadata": {},
   "outputs": [
    {
     "name": "stdout",
     "output_type": "stream",
     "text": [
      "enter something!!rwkefghrkueiwvgfdsjb@!^$@#%$#^\n",
      "rwkefghrkueiwvgfdsjb@!^$@#%$#^\n"
     ]
    }
   ],
   "source": [
    "x = input(\"enter something!!\")\n",
    "print(x)"
   ]
  },
  {
   "cell_type": "code",
   "execution_count": 6,
   "id": "c96ba42a",
   "metadata": {},
   "outputs": [
    {
     "name": "stdout",
     "output_type": "stream",
     "text": [
      "Enter the first number8\n",
      "Enter the second number2\n",
      "82\n"
     ]
    }
   ],
   "source": [
    "#wap to add two numbers with the help of user input!!\n",
    "\n",
    "x = input(\"Enter the first number\")\n",
    "y = input(\"Enter the second number\")\n",
    "z = x+y\n",
    "print(z)\n"
   ]
  },
  {
   "cell_type": "code",
   "execution_count": 7,
   "id": "611209a0",
   "metadata": {},
   "outputs": [
    {
     "name": "stdout",
     "output_type": "stream",
     "text": [
      "82\n"
     ]
    }
   ],
   "source": [
    "# Concatenation ----> adding of two strings.\n",
    "x = '8'\n",
    "y = '2'\n",
    "z = x+y\n",
    "print(z)"
   ]
  },
  {
   "cell_type": "code",
   "execution_count": 9,
   "id": "b8d2f7d0",
   "metadata": {},
   "outputs": [
    {
     "name": "stdout",
     "output_type": "stream",
     "text": [
      "helloo56456\n"
     ]
    }
   ],
   "source": [
    "x = 'helloo'\n",
    "y = '56456'\n",
    "z = x+y\n",
    "print(z)"
   ]
  },
  {
   "cell_type": "code",
   "execution_count": 11,
   "id": "4fa77ff4",
   "metadata": {},
   "outputs": [
    {
     "ename": "TypeError",
     "evalue": "unsupported operand type(s) for +: 'int' and 'str'",
     "output_type": "error",
     "traceback": [
      "\u001b[1;31m---------------------------------------------------------------------------\u001b[0m",
      "\u001b[1;31mTypeError\u001b[0m                                 Traceback (most recent call last)",
      "\u001b[1;32m~\\AppData\\Local\\Temp/ipykernel_8012/3014873959.py\u001b[0m in \u001b[0;36m<module>\u001b[1;34m\u001b[0m\n\u001b[0;32m      2\u001b[0m \u001b[0ma\u001b[0m \u001b[1;33m=\u001b[0m \u001b[1;36m1\u001b[0m\u001b[1;33m\u001b[0m\u001b[1;33m\u001b[0m\u001b[0m\n\u001b[0;32m      3\u001b[0m \u001b[0mb\u001b[0m \u001b[1;33m=\u001b[0m \u001b[1;34m'6'\u001b[0m\u001b[1;33m\u001b[0m\u001b[1;33m\u001b[0m\u001b[0m\n\u001b[1;32m----> 4\u001b[1;33m \u001b[0mc\u001b[0m \u001b[1;33m=\u001b[0m \u001b[0ma\u001b[0m\u001b[1;33m+\u001b[0m\u001b[0mb\u001b[0m\u001b[1;33m\u001b[0m\u001b[1;33m\u001b[0m\u001b[0m\n\u001b[0m\u001b[0;32m      5\u001b[0m \u001b[0mprint\u001b[0m\u001b[1;33m(\u001b[0m\u001b[0mc\u001b[0m\u001b[1;33m)\u001b[0m\u001b[1;33m\u001b[0m\u001b[1;33m\u001b[0m\u001b[0m\n",
      "\u001b[1;31mTypeError\u001b[0m: unsupported operand type(s) for +: 'int' and 'str'"
     ]
    }
   ],
   "source": [
    "# int vs str\n",
    "a = 1\n",
    "b = '6'\n",
    "c = a+b\n",
    "print(c)"
   ]
  },
  {
   "cell_type": "code",
   "execution_count": 13,
   "id": "90c4ed88",
   "metadata": {},
   "outputs": [
    {
     "name": "stdout",
     "output_type": "stream",
     "text": [
      "Enter the first number6\n",
      "Enter the second number7\n",
      "13\n"
     ]
    }
   ],
   "source": [
    "x = int(input(\"Enter the first number\"))\n",
    "y = int(input(\"Enter the second number\"))\n",
    "z = x+y\n",
    "print(z)\n"
   ]
  },
  {
   "cell_type": "code",
   "execution_count": 16,
   "id": "059a557b",
   "metadata": {},
   "outputs": [
    {
     "name": "stdout",
     "output_type": "stream",
     "text": [
      "First number5\n",
      "Second Number5\n",
      "10.0\n"
     ]
    }
   ],
   "source": [
    "#int----> first number.\n",
    "# floating ----> second number.\n",
    "\n",
    "\n",
    "x = int(input(\"First number\"))\n",
    "y = float(input(\"Second Number\"))\n",
    "z = x+y\n",
    "print(z)"
   ]
  },
  {
   "cell_type": "code",
   "execution_count": 17,
   "id": "6f0b6c52",
   "metadata": {},
   "outputs": [
    {
     "name": "stdout",
     "output_type": "stream",
     "text": [
      "2.0\n"
     ]
    }
   ],
   "source": [
    "# +,-,*,/\n",
    "# wap to divide two number.\n",
    "x = 4\n",
    "y = 2\n",
    "z = x/y\n",
    "print(z)"
   ]
  },
  {
   "cell_type": "code",
   "execution_count": 19,
   "id": "342c33f0",
   "metadata": {},
   "outputs": [
    {
     "name": "stdout",
     "output_type": "stream",
     "text": [
      "2\n"
     ]
    }
   ],
   "source": [
    "x = 4\n",
    "y = 2\n",
    "z = x//y\n",
    "print(z)"
   ]
  },
  {
   "cell_type": "code",
   "execution_count": 20,
   "id": "0c996346",
   "metadata": {},
   "outputs": [
    {
     "name": "stdout",
     "output_type": "stream",
     "text": [
      "2.0\n"
     ]
    }
   ],
   "source": [
    "x = 4\n",
    "y = 2\n",
    "z = x/y\n",
    "print(z)"
   ]
  },
  {
   "cell_type": "code",
   "execution_count": 23,
   "id": "0d9e7485",
   "metadata": {},
   "outputs": [
    {
     "name": "stdout",
     "output_type": "stream",
     "text": [
      "U can get a job!!\n"
     ]
    }
   ],
   "source": [
    "# Condition-----> 50%-50%----> yes --- no\n",
    "# syntax\n",
    "# if condition:\n",
    "#     msg print\n",
    "\n",
    "age = 121\n",
    "if age>20:\n",
    "    print(\"U can get a job!!\")\n",
    "    "
   ]
  },
  {
   "cell_type": "code",
   "execution_count": 27,
   "id": "4968f2d4",
   "metadata": {},
   "outputs": [
    {
     "name": "stdout",
     "output_type": "stream",
     "text": [
      "Chooti bacchi ho kya ?\n"
     ]
    }
   ],
   "source": [
    "age = 12\n",
    "if age>20:\n",
    "    print(\"U can get a job!!\")\n",
    "else:\n",
    "    print(\"Chooti bacchi ho kya ?\")\n"
   ]
  },
  {
   "cell_type": "code",
   "execution_count": 35,
   "id": "959d7b01",
   "metadata": {},
   "outputs": [
    {
     "name": "stdout",
     "output_type": "stream",
     "text": [
      "Enter the age17\n",
      "U r a kid bro\n"
     ]
    }
   ],
   "source": [
    "#wap to determine a person who is child or not?\n",
    "# 18--\n",
    "# 18+\n",
    "\n",
    "person_age = int(input(\"Enter the age\"))\n",
    "if person_age > 18:\n",
    "    print(\"Ye toh adult hai bhai!!\")\n",
    "elif person_age == 18:\n",
    "    print(\"Teenager\")\n",
    "else:\n",
    "    print(\"U r a kid bro\")"
   ]
  },
  {
   "cell_type": "code",
   "execution_count": 37,
   "id": "b94c85e0",
   "metadata": {},
   "outputs": [
    {
     "name": "stdout",
     "output_type": "stream",
     "text": [
      "True\n"
     ]
    }
   ],
   "source": [
    "a = 9\n",
    "b = 9\n",
    "print(a == b)"
   ]
  },
  {
   "cell_type": "code",
   "execution_count": 43,
   "id": "ca5a9a8d",
   "metadata": {},
   "outputs": [
    {
     "name": "stdout",
     "output_type": "stream",
     "text": [
      "A is greatest 100\n"
     ]
    }
   ],
   "source": [
    "# wap to find max. of 3 numbers.\n",
    "# wap to find min. of 3 numbers.\n",
    "# wap to find avg. of 5 numbers.\n",
    "\n",
    "\n",
    "a = 100\n",
    "b = -25\n",
    "c = 30\n",
    "if a>b and a>c:\n",
    "    print(\"A is greatest\",a)\n",
    "elif b>a and b>c:\n",
    "    print(\"B is greatest\",b)\n",
    "else:\n",
    "    print(\"C is greatest\",c)\n"
   ]
  },
  {
   "cell_type": "code",
   "execution_count": 44,
   "id": "d95ed8f4",
   "metadata": {},
   "outputs": [],
   "source": [
    "a = 6\n",
    "b = 2\n",
    "c = 4\n",
    "average = (a+b+c)/3"
   ]
  },
  {
   "cell_type": "code",
   "execution_count": 45,
   "id": "1438e7d8",
   "metadata": {},
   "outputs": [
    {
     "data": {
      "text/plain": [
       "4.0"
      ]
     },
     "execution_count": 45,
     "metadata": {},
     "output_type": "execute_result"
    }
   ],
   "source": [
    "average"
   ]
  },
  {
   "cell_type": "code",
   "execution_count": null,
   "id": "6c4e2e30",
   "metadata": {},
   "outputs": [],
   "source": []
  }
 ],
 "metadata": {
  "kernelspec": {
   "display_name": "Python 3 (ipykernel)",
   "language": "python",
   "name": "python3"
  },
  "language_info": {
   "codemirror_mode": {
    "name": "ipython",
    "version": 3
   },
   "file_extension": ".py",
   "mimetype": "text/x-python",
   "name": "python",
   "nbconvert_exporter": "python",
   "pygments_lexer": "ipython3",
   "version": "3.9.7"
  }
 },
 "nbformat": 4,
 "nbformat_minor": 5
}
