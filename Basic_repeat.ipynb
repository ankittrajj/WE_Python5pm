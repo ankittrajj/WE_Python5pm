{
 "cells": [
  {
   "cell_type": "code",
   "execution_count": 7,
   "id": "14c6410c",
   "metadata": {},
   "outputs": [
    {
     "name": "stdout",
     "output_type": "stream",
     "text": [
      "hello world\n"
     ]
    }
   ],
   "source": [
    "print('hello world')"
   ]
  },
  {
   "cell_type": "code",
   "execution_count": 6,
   "id": "ac2cdf8c",
   "metadata": {},
   "outputs": [
    {
     "name": "stdout",
     "output_type": "stream",
     "text": [
      "hello world\n"
     ]
    }
   ],
   "source": [
    "print(\"hello world\")"
   ]
  },
  {
   "cell_type": "code",
   "execution_count": 5,
   "id": "d518b41b",
   "metadata": {},
   "outputs": [
    {
     "name": "stdout",
     "output_type": "stream",
     "text": [
      "hello \n",
      "world\n"
     ]
    }
   ],
   "source": [
    "print('''hello \n",
    "world''')"
   ]
  },
  {
   "cell_type": "code",
   "execution_count": 8,
   "id": "94f4de72",
   "metadata": {},
   "outputs": [
    {
     "name": "stdout",
     "output_type": "stream",
     "text": [
      "123\n"
     ]
    }
   ],
   "source": [
    "print(123)"
   ]
  },
  {
   "cell_type": "code",
   "execution_count": 11,
   "id": "f368a280",
   "metadata": {},
   "outputs": [
    {
     "data": {
      "text/plain": [
       "-45"
      ]
     },
     "execution_count": 11,
     "metadata": {},
     "output_type": "execute_result"
    }
   ],
   "source": [
    "#data types & variables .\n",
    "\n",
    "# int,string,boolean,float,complex.\n",
    "\n",
    "# int ----- > integer -----> +,-(0-9)\n",
    "\n",
    "x = -45\n",
    "x"
   ]
  },
  {
   "cell_type": "code",
   "execution_count": 12,
   "id": "ecda665d",
   "metadata": {},
   "outputs": [
    {
     "data": {
      "text/plain": [
       "int"
      ]
     },
     "execution_count": 12,
     "metadata": {},
     "output_type": "execute_result"
    }
   ],
   "source": [
    "# type\n",
    "\n",
    "type(x)"
   ]
  },
  {
   "cell_type": "code",
   "execution_count": 15,
   "id": "75a92392",
   "metadata": {},
   "outputs": [
    {
     "data": {
      "text/plain": [
       "-89.567"
      ]
     },
     "execution_count": 15,
     "metadata": {},
     "output_type": "execute_result"
    }
   ],
   "source": [
    "# float-----> like an integer but decimal points.\n",
    "# +,-(0-9) but having decimals.\n",
    "\n",
    "a = -89.567\n",
    "a"
   ]
  },
  {
   "cell_type": "code",
   "execution_count": 16,
   "id": "2fa277e0",
   "metadata": {},
   "outputs": [
    {
     "data": {
      "text/plain": [
       "float"
      ]
     },
     "execution_count": 16,
     "metadata": {},
     "output_type": "execute_result"
    }
   ],
   "source": [
    "type(a)"
   ]
  },
  {
   "cell_type": "code",
   "execution_count": 18,
   "id": "9b4c7bd5",
   "metadata": {},
   "outputs": [
    {
     "name": "stdout",
     "output_type": "stream",
     "text": [
      "567\n"
     ]
    }
   ],
   "source": [
    "# string----> if u write anything inside the quotes(single ,double).\n",
    "c = '567'\n",
    "print(c)\n"
   ]
  },
  {
   "cell_type": "code",
   "execution_count": 19,
   "id": "b13ea358",
   "metadata": {},
   "outputs": [
    {
     "data": {
      "text/plain": [
       "str"
      ]
     },
     "execution_count": 19,
     "metadata": {},
     "output_type": "execute_result"
    }
   ],
   "source": [
    "type(c)"
   ]
  },
  {
   "cell_type": "code",
   "execution_count": 20,
   "id": "bfb07cbc",
   "metadata": {},
   "outputs": [
    {
     "name": "stdout",
     "output_type": "stream",
     "text": [
      "567,gjcdthdsjtyxccfuffv@@^^&&0--80-007trdhcjhbjb\n"
     ]
    }
   ],
   "source": [
    "c = '567,gjcdthdsjtyxccfuffv@@^^&&0--80-007trdhcjhbjb'\n",
    "print(c)"
   ]
  },
  {
   "cell_type": "code",
   "execution_count": 21,
   "id": "31139e6d",
   "metadata": {},
   "outputs": [
    {
     "data": {
      "text/plain": [
       "str"
      ]
     },
     "execution_count": 21,
     "metadata": {},
     "output_type": "execute_result"
    }
   ],
   "source": [
    "type(c)"
   ]
  },
  {
   "cell_type": "code",
   "execution_count": 23,
   "id": "214c768b",
   "metadata": {},
   "outputs": [
    {
     "name": "stdout",
     "output_type": "stream",
     "text": [
      "Enter the first number23\n",
      "23\n"
     ]
    }
   ],
   "source": [
    "# user input\n",
    "a = input('Enter the first number')\n",
    "print(a)\n"
   ]
  },
  {
   "cell_type": "code",
   "execution_count": 30,
   "id": "1e115e56",
   "metadata": {},
   "outputs": [
    {
     "name": "stdout",
     "output_type": "stream",
     "text": [
      "Enter the first number7\n",
      "Enter the second number3\n",
      "10\n"
     ]
    }
   ],
   "source": [
    "# Wap to add two numbers with the help of user input.\n",
    "a = int(input(\"Enter the first number\"))\n",
    "b = int(input(\"Enter the second number\"))\n",
    "c = a+b \n",
    "print(c)"
   ]
  },
  {
   "cell_type": "code",
   "execution_count": 28,
   "id": "da81eefb",
   "metadata": {},
   "outputs": [
    {
     "name": "stdout",
     "output_type": "stream",
     "text": [
      "73\n"
     ]
    }
   ],
   "source": [
    "a = '7'\n",
    "b ='3'\n",
    "c = a+b\n",
    "print(c)"
   ]
  },
  {
   "cell_type": "code",
   "execution_count": 29,
   "id": "117e6c7f",
   "metadata": {},
   "outputs": [
    {
     "data": {
      "text/plain": [
       "str"
      ]
     },
     "execution_count": 29,
     "metadata": {},
     "output_type": "execute_result"
    }
   ],
   "source": [
    "type(c)"
   ]
  },
  {
   "cell_type": "code",
   "execution_count": 31,
   "id": "c3c06887",
   "metadata": {},
   "outputs": [
    {
     "name": "stdout",
     "output_type": "stream",
     "text": [
      "Enter the first number8\n",
      "Enter the second number2\n",
      "10\n"
     ]
    }
   ],
   "source": [
    "a = input(\"Enter the first number\")\n",
    "b = input(\"Enter the second number\")\n",
    "c = int(a)+int(b) \n",
    "print(c)"
   ]
  },
  {
   "cell_type": "code",
   "execution_count": 35,
   "id": "21f539b9",
   "metadata": {},
   "outputs": [
    {
     "name": "stdout",
     "output_type": "stream",
     "text": [
      "Enter the first number6\n",
      "Enter the second number1\n",
      "7.0\n"
     ]
    }
   ],
   "source": [
    "a = int(input(\"Enter the first number\"))\n",
    "b = float(input(\"Enter the second number\"))\n",
    "c = a+b \n",
    "print(c)"
   ]
  },
  {
   "cell_type": "code",
   "execution_count": 44,
   "id": "f303ba85",
   "metadata": {},
   "outputs": [
    {
     "data": {
      "text/plain": [
       "True"
      ]
     },
     "execution_count": 44,
     "metadata": {},
     "output_type": "execute_result"
    }
   ],
   "source": [
    "# boolean, complex\n",
    "\n",
    "# boolean-----> True/ False-----> condition\n",
    "\n",
    "a = True\n",
    "a"
   ]
  },
  {
   "cell_type": "code",
   "execution_count": 37,
   "id": "d3e7bcb2",
   "metadata": {},
   "outputs": [
    {
     "data": {
      "text/plain": [
       "bool"
      ]
     },
     "execution_count": 37,
     "metadata": {},
     "output_type": "execute_result"
    }
   ],
   "source": [
    "type(a)"
   ]
  },
  {
   "cell_type": "code",
   "execution_count": 39,
   "id": "c6576eaa",
   "metadata": {},
   "outputs": [
    {
     "name": "stdout",
     "output_type": "stream",
     "text": [
      "True\n"
     ]
    }
   ],
   "source": [
    "c = 'True'\n",
    "print(c)"
   ]
  },
  {
   "cell_type": "code",
   "execution_count": 40,
   "id": "278b8410",
   "metadata": {},
   "outputs": [
    {
     "data": {
      "text/plain": [
       "str"
      ]
     },
     "execution_count": 40,
     "metadata": {},
     "output_type": "execute_result"
    }
   ],
   "source": [
    "type(c)"
   ]
  },
  {
   "cell_type": "code",
   "execution_count": 45,
   "id": "e67dd3dd",
   "metadata": {},
   "outputs": [
    {
     "name": "stdout",
     "output_type": "stream",
     "text": [
      "False\n"
     ]
    }
   ],
   "source": [
    "# condition operator\n",
    "# >,<,>=,<=,==,!=\n",
    "\n",
    "a = 45\n",
    "b = 90\n",
    "c = a>b\n",
    "print(c)"
   ]
  },
  {
   "cell_type": "code",
   "execution_count": 46,
   "id": "483dff46",
   "metadata": {},
   "outputs": [
    {
     "name": "stdout",
     "output_type": "stream",
     "text": [
      "True\n"
     ]
    }
   ],
   "source": [
    "a = 45\n",
    "b = 90\n",
    "c = a<b\n",
    "print(c)"
   ]
  },
  {
   "cell_type": "code",
   "execution_count": 48,
   "id": "ce711dad",
   "metadata": {},
   "outputs": [
    {
     "data": {
      "text/plain": [
       "True"
      ]
     },
     "execution_count": 48,
     "metadata": {},
     "output_type": "execute_result"
    }
   ],
   "source": [
    "# ==,!=\n",
    "\n",
    "# == -----> equal to\n",
    "a = 9\n",
    "b = 9\n",
    "c = a == b\n",
    "c"
   ]
  },
  {
   "cell_type": "code",
   "execution_count": 50,
   "id": "820f25e6",
   "metadata": {},
   "outputs": [
    {
     "data": {
      "text/plain": [
       "True"
      ]
     },
     "execution_count": 50,
     "metadata": {},
     "output_type": "execute_result"
    }
   ],
   "source": [
    "# 1= -----> not equal to\n",
    "a = 9\n",
    "b = 90\n",
    "c = a != b\n",
    "c"
   ]
  },
  {
   "cell_type": "code",
   "execution_count": 56,
   "id": "b2604016",
   "metadata": {},
   "outputs": [
    {
     "name": "stdout",
     "output_type": "stream",
     "text": [
      "he is bigger\n"
     ]
    }
   ],
   "source": [
    "# Condition-----> \n",
    "\n",
    "a = 900\n",
    "if a<10:\n",
    "    print('A chota hai bhai')\n",
    "else:\n",
    "    print(\"he is bigger\")"
   ]
  },
  {
   "cell_type": "code",
   "execution_count": 64,
   "id": "0dbf90a4",
   "metadata": {},
   "outputs": [
    {
     "name": "stdout",
     "output_type": "stream",
     "text": [
      "tu chotu hai bhai\n"
     ]
    }
   ],
   "source": [
    "#wap to find a person is a child of adult \n",
    "# if person is 18+ he/she is adult\n",
    "# if person is 18- he/she is child.\n",
    "# if person is 18 then he/she is teenager.\n",
    "\n",
    "\n",
    "age = int(input(\"Enter the age!!\"))\n",
    "if age>18:\n",
    "    print(\"Adult ho bhiya\")\n",
    "elif age == 18:\n",
    "    print(\"teenager\")\n",
    "else:\n",
    "    print(\"tu chotu hai bhai\")"
   ]
  },
  {
   "cell_type": "code",
   "execution_count": 80,
   "id": "f9100e02",
   "metadata": {},
   "outputs": [
    {
     "name": "stdout",
     "output_type": "stream",
     "text": [
      "Enter the class held100\n",
      "Enter the class attend7\n",
      "Do you have any medical condition!!Y\n",
      "7.000000000000001\n",
      "Allowed\n"
     ]
    }
   ],
   "source": [
    "# 8.\n",
    "# A student will not be allowed to sit in exam \n",
    "# if his/her attendence is less than 75%.\n",
    "# Take following input from user\n",
    "# Number of classes held\n",
    "# Number of classes attended.\n",
    "# And print\n",
    "# percentage of class attended\n",
    "# Is student is allowed to sit in exam or not\n",
    "\n",
    "# Modify the above question to allow student to sit \n",
    "# if he/she has medical cause. Ask user if he/she \n",
    "# has medical cause \n",
    "# or not ( 'Y' or 'N' ) and print accordingly\n",
    "\n",
    "num_of_class_held = int(input(\"Enter the class held\"))\n",
    "num_of_class_attend = int(input(\"Enter the class attend\"))\n",
    "per = (num_of_class_attend/num_of_class_held)*100\n",
    "medical_con = input(\"Do you have any medical condition!!\")\n",
    "print(per)\n",
    "if per<75:\n",
    "    if medical_con == 'Y':\n",
    "        print(\"Allowed\")\n",
    "    else:\n",
    "        print(\"not allowed\")\n",
    "\n",
    "else:\n",
    "    print(\"Allowed\")\n",
    "\n",
    "    \n"
   ]
  },
  {
   "cell_type": "code",
   "execution_count": null,
   "id": "cfd5187d",
   "metadata": {},
   "outputs": [],
   "source": [
    "# Wap to find odd and even number.\n",
    "# #wap to find prime number upto 7 terms."
   ]
  }
 ],
 "metadata": {
  "kernelspec": {
   "display_name": "Python 3 (ipykernel)",
   "language": "python",
   "name": "python3"
  },
  "language_info": {
   "codemirror_mode": {
    "name": "ipython",
    "version": 3
   },
   "file_extension": ".py",
   "mimetype": "text/x-python",
   "name": "python",
   "nbconvert_exporter": "python",
   "pygments_lexer": "ipython3",
   "version": "3.9.7"
  }
 },
 "nbformat": 4,
 "nbformat_minor": 5
}
