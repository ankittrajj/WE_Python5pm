{
 "cells": [
  {
   "cell_type": "code",
   "execution_count": 1,
   "id": "f8726b9a",
   "metadata": {},
   "outputs": [
    {
     "name": "stdout",
     "output_type": "stream",
     "text": [
      "<class 'tuple'>\n"
     ]
    }
   ],
   "source": [
    "# list & tuple\n",
    "# wap to convert tuple into list.\n",
    "a = (1,2,3,4)\n",
    "print(type(a))"
   ]
  },
  {
   "cell_type": "code",
   "execution_count": 2,
   "id": "ba267d91",
   "metadata": {},
   "outputs": [
    {
     "name": "stdout",
     "output_type": "stream",
     "text": [
      "[1, 2, 3, 4]\n"
     ]
    }
   ],
   "source": [
    "b = list(a)\n",
    "print(b)"
   ]
  },
  {
   "cell_type": "code",
   "execution_count": 3,
   "id": "f4b2274c",
   "metadata": {},
   "outputs": [
    {
     "data": {
      "text/plain": [
       "list"
      ]
     },
     "execution_count": 3,
     "metadata": {},
     "output_type": "execute_result"
    }
   ],
   "source": [
    "type(b)"
   ]
  },
  {
   "cell_type": "code",
   "execution_count": 4,
   "id": "debec3c6",
   "metadata": {},
   "outputs": [
    {
     "name": "stdout",
     "output_type": "stream",
     "text": [
      "<class 'int'>\n"
     ]
    }
   ],
   "source": [
    "# int,float\n",
    "# list\n",
    "# tuple\n",
    "# set\n",
    "# dict\n",
    "\n",
    "a = 23\n",
    "print(type(a))\n",
    "\n"
   ]
  },
  {
   "cell_type": "code",
   "execution_count": 6,
   "id": "340a950d",
   "metadata": {},
   "outputs": [],
   "source": [
    "b = float(a)"
   ]
  },
  {
   "cell_type": "code",
   "execution_count": 7,
   "id": "ed561dcb",
   "metadata": {},
   "outputs": [
    {
     "data": {
      "text/plain": [
       "float"
      ]
     },
     "execution_count": 7,
     "metadata": {},
     "output_type": "execute_result"
    }
   ],
   "source": [
    "type(b)"
   ]
  },
  {
   "cell_type": "markdown",
   "id": "48ab3247",
   "metadata": {},
   "source": [
    "# Dict"
   ]
  },
  {
   "cell_type": "code",
   "execution_count": 14,
   "id": "f1c0f757",
   "metadata": {},
   "outputs": [],
   "source": [
    "x = {\n",
    "    'name':'A',\n",
    "    'age':23,\n",
    "    'marks':56,\n",
    "    'salary':45000\n",
    "}"
   ]
  },
  {
   "cell_type": "code",
   "execution_count": 15,
   "id": "da630e94",
   "metadata": {},
   "outputs": [
    {
     "data": {
      "text/plain": [
       "{'name': 'A', 'age': 23, 'marks': 56, 'salary': 45000}"
      ]
     },
     "execution_count": 15,
     "metadata": {},
     "output_type": "execute_result"
    }
   ],
   "source": [
    "x"
   ]
  },
  {
   "cell_type": "code",
   "execution_count": 16,
   "id": "c3bc13b1",
   "metadata": {},
   "outputs": [
    {
     "data": {
      "text/plain": [
       "dict"
      ]
     },
     "execution_count": 16,
     "metadata": {},
     "output_type": "execute_result"
    }
   ],
   "source": [
    "type(x)"
   ]
  },
  {
   "cell_type": "markdown",
   "id": "d34e8907",
   "metadata": {},
   "source": [
    "# slicing with indexing"
   ]
  },
  {
   "cell_type": "code",
   "execution_count": 17,
   "id": "2651f08e",
   "metadata": {},
   "outputs": [
    {
     "data": {
      "text/plain": [
       "{'name': 'A', 'age': 23, 'marks': 56, 'salary': 45000}"
      ]
     },
     "execution_count": 17,
     "metadata": {},
     "output_type": "execute_result"
    }
   ],
   "source": [
    "x"
   ]
  },
  {
   "cell_type": "code",
   "execution_count": 18,
   "id": "7cb564d2",
   "metadata": {},
   "outputs": [
    {
     "data": {
      "text/plain": [
       "23"
      ]
     },
     "execution_count": 18,
     "metadata": {},
     "output_type": "execute_result"
    }
   ],
   "source": [
    "# x{3}\n",
    "\n",
    "# x[3]\n",
    "\n",
    "# x[1]\n",
    "\n",
    "x['age']"
   ]
  },
  {
   "cell_type": "code",
   "execution_count": 19,
   "id": "301e09e2",
   "metadata": {},
   "outputs": [
    {
     "data": {
      "text/plain": [
       "'A'"
      ]
     },
     "execution_count": 19,
     "metadata": {},
     "output_type": "execute_result"
    }
   ],
   "source": [
    "x['name']"
   ]
  },
  {
   "cell_type": "code",
   "execution_count": 22,
   "id": "2530673b",
   "metadata": {},
   "outputs": [
    {
     "ename": "TypeError",
     "evalue": "unhashable type: 'list'",
     "output_type": "error",
     "traceback": [
      "\u001b[1;31m---------------------------------------------------------------------------\u001b[0m",
      "\u001b[1;31mTypeError\u001b[0m                                 Traceback (most recent call last)",
      "\u001b[1;32m~\\AppData\\Local\\Temp/ipykernel_8208/987248691.py\u001b[0m in \u001b[0;36m<module>\u001b[1;34m\u001b[0m\n\u001b[1;32m----> 1\u001b[1;33m \u001b[0mx\u001b[0m\u001b[1;33m[\u001b[0m\u001b[1;33m[\u001b[0m\u001b[1;33m[\u001b[0m\u001b[1;34m'name'\u001b[0m\u001b[1;33m,\u001b[0m\u001b[1;34m'age'\u001b[0m\u001b[1;33m,\u001b[0m\u001b[1;34m'marks'\u001b[0m\u001b[1;33m]\u001b[0m\u001b[1;33m]\u001b[0m\u001b[1;33m]\u001b[0m\u001b[1;33m\u001b[0m\u001b[1;33m\u001b[0m\u001b[0m\n\u001b[0m",
      "\u001b[1;31mTypeError\u001b[0m: unhashable type: 'list'"
     ]
    }
   ],
   "source": [
    "x[[['name','age','marks']]]"
   ]
  },
  {
   "cell_type": "code",
   "execution_count": 25,
   "id": "6374cae3",
   "metadata": {},
   "outputs": [],
   "source": [
    "x = {\n",
    "    'name':['A','B','C'],\n",
    "    'age':[23,45,67],\n",
    "    'marks':[56,5,34],\n",
    "    'salary':45000\n",
    "}"
   ]
  },
  {
   "cell_type": "code",
   "execution_count": 26,
   "id": "083f1e40",
   "metadata": {},
   "outputs": [
    {
     "data": {
      "text/plain": [
       "{'name': ['A', 'B', 'C'],\n",
       " 'age': [23, 45, 67],\n",
       " 'marks': [56, 5, 34],\n",
       " 'salary': 45000}"
      ]
     },
     "execution_count": 26,
     "metadata": {},
     "output_type": "execute_result"
    }
   ],
   "source": [
    "x"
   ]
  },
  {
   "cell_type": "code",
   "execution_count": 30,
   "id": "3471528f",
   "metadata": {},
   "outputs": [],
   "source": [
    "x['name'][1]='Z'"
   ]
  },
  {
   "cell_type": "code",
   "execution_count": 31,
   "id": "af478a0b",
   "metadata": {},
   "outputs": [
    {
     "data": {
      "text/plain": [
       "{'name': ['A', 'Z', 'C'],\n",
       " 'age': [23, 45, 67],\n",
       " 'marks': [56, 5, 34],\n",
       " 'salary': 45000}"
      ]
     },
     "execution_count": 31,
     "metadata": {},
     "output_type": "execute_result"
    }
   ],
   "source": [
    "x"
   ]
  },
  {
   "cell_type": "code",
   "execution_count": 33,
   "id": "1f44002a",
   "metadata": {},
   "outputs": [],
   "source": [
    "x = {\n",
    "    'name':['A','B','C'],\n",
    "    'age':[23,45,67],\n",
    "    'marks':[56,5,34],\n",
    "    'salary':45000,\n",
    "    \n",
    "    'y':{\n",
    "        'emp':['X',\"Y\",'Z'],\n",
    "        'age':(1,2,3),\n",
    "\n",
    "    }\n",
    "}"
   ]
  },
  {
   "cell_type": "code",
   "execution_count": 34,
   "id": "9e42f52d",
   "metadata": {},
   "outputs": [
    {
     "data": {
      "text/plain": [
       "{'name': ['A', 'B', 'C'],\n",
       " 'age': [23, 45, 67],\n",
       " 'marks': [56, 5, 34],\n",
       " 'salary': 45000,\n",
       " 'y': {'emp': ['X', 'Y', 'Z'], 'age': (1, 2, 3)}}"
      ]
     },
     "execution_count": 34,
     "metadata": {},
     "output_type": "execute_result"
    }
   ],
   "source": [
    "x"
   ]
  },
  {
   "cell_type": "code",
   "execution_count": 38,
   "id": "ed1e7a27",
   "metadata": {},
   "outputs": [
    {
     "data": {
      "text/plain": [
       "2"
      ]
     },
     "execution_count": 38,
     "metadata": {},
     "output_type": "execute_result"
    }
   ],
   "source": [
    "x['y']['age'][1]"
   ]
  },
  {
   "cell_type": "code",
   "execution_count": 57,
   "id": "ce9f141a",
   "metadata": {},
   "outputs": [],
   "source": [
    "x = {\n",
    "    'name':['A','B','C'],\n",
    "    'age':[23,45,67],\n",
    "    'marks':[56,5,34],\n",
    "    'salary':45000,\n",
    "    0:'hello',\n",
    "    '0':1,\n",
    "    0:'python',\n",
    "    '0':'1',\n",
    "    1:0,\n",
    "    \n",
    "    'y':{\n",
    "        'emp':['X',\"Y\",'Z'],\n",
    "        'age':(1,2,3),\n",
    "\n",
    "    }\n",
    "}"
   ]
  },
  {
   "cell_type": "code",
   "execution_count": 52,
   "id": "7f19b033",
   "metadata": {},
   "outputs": [
    {
     "data": {
      "text/plain": [
       "{'name': ['A', 'B', 'C'],\n",
       " 'age': [23, 45, 67],\n",
       " 'marks': [56, 5, 34],\n",
       " 'salary': 45000,\n",
       " 0: 'python',\n",
       " '0': '1',\n",
       " 1: 0,\n",
       " 'y': {'emp': ['X', 'Y', 'Z'], 'age': (1, 2, 3)}}"
      ]
     },
     "execution_count": 52,
     "metadata": {},
     "output_type": "execute_result"
    }
   ],
   "source": [
    "x"
   ]
  },
  {
   "cell_type": "code",
   "execution_count": 41,
   "id": "332e5f83",
   "metadata": {},
   "outputs": [
    {
     "data": {
      "text/plain": [
       "'hello'"
      ]
     },
     "execution_count": 41,
     "metadata": {},
     "output_type": "execute_result"
    }
   ],
   "source": [
    "x[0]"
   ]
  },
  {
   "cell_type": "code",
   "execution_count": 44,
   "id": "5e3e5391",
   "metadata": {},
   "outputs": [
    {
     "data": {
      "text/plain": [
       "1"
      ]
     },
     "execution_count": 44,
     "metadata": {},
     "output_type": "execute_result"
    }
   ],
   "source": [
    "x['0']"
   ]
  },
  {
   "cell_type": "code",
   "execution_count": 53,
   "id": "99586d38",
   "metadata": {},
   "outputs": [
    {
     "data": {
      "text/plain": [
       "0"
      ]
     },
     "execution_count": 53,
     "metadata": {},
     "output_type": "execute_result"
    }
   ],
   "source": [
    "x[1]"
   ]
  },
  {
   "cell_type": "code",
   "execution_count": 54,
   "id": "b8d7fc2b",
   "metadata": {},
   "outputs": [
    {
     "data": {
      "text/plain": [
       "dict"
      ]
     },
     "execution_count": 54,
     "metadata": {},
     "output_type": "execute_result"
    }
   ],
   "source": [
    "#wap to create a empty dict.\n",
    "#wap to create a single element dict.\n",
    "a = {}\n",
    "type(a)"
   ]
  },
  {
   "cell_type": "code",
   "execution_count": 56,
   "id": "0629bd47",
   "metadata": {},
   "outputs": [
    {
     "data": {
      "text/plain": [
       "dict"
      ]
     },
     "execution_count": 56,
     "metadata": {},
     "output_type": "execute_result"
    }
   ],
   "source": [
    "x = {\n",
    "    1:0\n",
    "}\n",
    "type(x)"
   ]
  },
  {
   "cell_type": "markdown",
   "id": "a0796859",
   "metadata": {},
   "source": [
    "# Dict methods"
   ]
  },
  {
   "cell_type": "code",
   "execution_count": 58,
   "id": "d0eed640",
   "metadata": {},
   "outputs": [
    {
     "data": {
      "text/plain": [
       "{'name': ['A', 'B', 'C'],\n",
       " 'age': [23, 45, 67],\n",
       " 'marks': [56, 5, 34],\n",
       " 'salary': 45000,\n",
       " 0: 'python',\n",
       " '0': '1',\n",
       " 1: 0,\n",
       " 'y': {'emp': ['X', 'Y', 'Z'], 'age': (1, 2, 3)}}"
      ]
     },
     "execution_count": 58,
     "metadata": {},
     "output_type": "execute_result"
    }
   ],
   "source": [
    "# items\n",
    "# keys\n",
    "# values\n",
    "# pop\n",
    "# update\n",
    "x"
   ]
  },
  {
   "cell_type": "code",
   "execution_count": 59,
   "id": "c343e6ba",
   "metadata": {},
   "outputs": [
    {
     "data": {
      "text/plain": [
       "dict_keys(['name', 'age', 'marks', 'salary', 0, '0', 1, 'y'])"
      ]
     },
     "execution_count": 59,
     "metadata": {},
     "output_type": "execute_result"
    }
   ],
   "source": [
    "# key\n",
    "x.keys()"
   ]
  },
  {
   "cell_type": "code",
   "execution_count": 60,
   "id": "5bfa505d",
   "metadata": {},
   "outputs": [
    {
     "data": {
      "text/plain": [
       "dict_values([['A', 'B', 'C'], [23, 45, 67], [56, 5, 34], 45000, 'python', '1', 0, {'emp': ['X', 'Y', 'Z'], 'age': (1, 2, 3)}])"
      ]
     },
     "execution_count": 60,
     "metadata": {},
     "output_type": "execute_result"
    }
   ],
   "source": [
    "x.values()"
   ]
  },
  {
   "cell_type": "code",
   "execution_count": 61,
   "id": "711d47fa",
   "metadata": {},
   "outputs": [
    {
     "data": {
      "text/plain": [
       "dict_items([('name', ['A', 'B', 'C']), ('age', [23, 45, 67]), ('marks', [56, 5, 34]), ('salary', 45000), (0, 'python'), ('0', '1'), (1, 0), ('y', {'emp': ['X', 'Y', 'Z'], 'age': (1, 2, 3)})])"
      ]
     },
     "execution_count": 61,
     "metadata": {},
     "output_type": "execute_result"
    }
   ],
   "source": [
    "x.items()"
   ]
  },
  {
   "cell_type": "code",
   "execution_count": 63,
   "id": "78e39af4",
   "metadata": {},
   "outputs": [
    {
     "data": {
      "text/plain": [
       "'python'"
      ]
     },
     "execution_count": 63,
     "metadata": {},
     "output_type": "execute_result"
    }
   ],
   "source": [
    "# pop\n",
    "x.pop(0)"
   ]
  },
  {
   "cell_type": "code",
   "execution_count": 64,
   "id": "77f2bbf6",
   "metadata": {},
   "outputs": [
    {
     "data": {
      "text/plain": [
       "{'name': ['A', 'B', 'C'],\n",
       " 'age': [23, 45, 67],\n",
       " 'marks': [56, 5, 34],\n",
       " 'salary': 45000,\n",
       " '0': '1',\n",
       " 1: 0,\n",
       " 'y': {'emp': ['X', 'Y', 'Z'], 'age': (1, 2, 3)}}"
      ]
     },
     "execution_count": 64,
     "metadata": {},
     "output_type": "execute_result"
    }
   ],
   "source": [
    "x"
   ]
  },
  {
   "cell_type": "code",
   "execution_count": 65,
   "id": "d6a9de97",
   "metadata": {},
   "outputs": [],
   "source": [
    "x.update()"
   ]
  },
  {
   "cell_type": "code",
   "execution_count": 66,
   "id": "0d7002cd",
   "metadata": {},
   "outputs": [
    {
     "data": {
      "text/plain": [
       "{'name': ['A', 'B', 'C'],\n",
       " 'age': [23, 45, 67],\n",
       " 'marks': [56, 5, 34],\n",
       " 'salary': 45000,\n",
       " '0': '1',\n",
       " 1: 0,\n",
       " 'y': {'emp': ['X', 'Y', 'Z'], 'age': (1, 2, 3)}}"
      ]
     },
     "execution_count": 66,
     "metadata": {},
     "output_type": "execute_result"
    }
   ],
   "source": [
    "x"
   ]
  },
  {
   "cell_type": "code",
   "execution_count": 67,
   "id": "658013d8",
   "metadata": {},
   "outputs": [
    {
     "ename": "SyntaxError",
     "evalue": "invalid syntax (Temp/ipykernel_8208/1929501517.py, line 1)",
     "output_type": "error",
     "traceback": [
      "\u001b[1;36m  File \u001b[1;32m\"C:\\Users\\Satyam\\AppData\\Local\\Temp/ipykernel_8208/1929501517.py\"\u001b[1;36m, line \u001b[1;32m1\u001b[0m\n\u001b[1;33m    x.update(1:100)\u001b[0m\n\u001b[1;37m              ^\u001b[0m\n\u001b[1;31mSyntaxError\u001b[0m\u001b[1;31m:\u001b[0m invalid syntax\n"
     ]
    }
   ],
   "source": [
    "x.update(1:100)"
   ]
  },
  {
   "cell_type": "code",
   "execution_count": 68,
   "id": "4608a6cc",
   "metadata": {},
   "outputs": [],
   "source": [
    "x = {\"a\":'hello'}\n",
    "y = {\"a\":'python'}"
   ]
  },
  {
   "cell_type": "code",
   "execution_count": 69,
   "id": "8c1f42bb",
   "metadata": {},
   "outputs": [],
   "source": [
    "x.update(y)"
   ]
  },
  {
   "cell_type": "code",
   "execution_count": 70,
   "id": "3fd8f7f5",
   "metadata": {},
   "outputs": [
    {
     "data": {
      "text/plain": [
       "{'a': 'python'}"
      ]
     },
     "execution_count": 70,
     "metadata": {},
     "output_type": "execute_result"
    }
   ],
   "source": [
    "x"
   ]
  },
  {
   "cell_type": "code",
   "execution_count": 71,
   "id": "76e1d824",
   "metadata": {},
   "outputs": [
    {
     "data": {
      "text/plain": [
       "{'a': 'python'}"
      ]
     },
     "execution_count": 71,
     "metadata": {},
     "output_type": "execute_result"
    }
   ],
   "source": [
    "y"
   ]
  },
  {
   "cell_type": "markdown",
   "id": "1240d013",
   "metadata": {},
   "source": [
    "# SET"
   ]
  },
  {
   "cell_type": "code",
   "execution_count": 72,
   "id": "5c888d81",
   "metadata": {},
   "outputs": [],
   "source": [
    "x = {1,2,3,4}"
   ]
  },
  {
   "cell_type": "code",
   "execution_count": 73,
   "id": "b64239bd",
   "metadata": {},
   "outputs": [
    {
     "data": {
      "text/plain": [
       "{1, 2, 3, 4}"
      ]
     },
     "execution_count": 73,
     "metadata": {},
     "output_type": "execute_result"
    }
   ],
   "source": [
    "x"
   ]
  },
  {
   "cell_type": "code",
   "execution_count": 74,
   "id": "3a007e31",
   "metadata": {},
   "outputs": [
    {
     "data": {
      "text/plain": [
       "set"
      ]
     },
     "execution_count": 74,
     "metadata": {},
     "output_type": "execute_result"
    }
   ],
   "source": [
    "type(x)"
   ]
  },
  {
   "cell_type": "code",
   "execution_count": 75,
   "id": "dbb487e4",
   "metadata": {},
   "outputs": [
    {
     "data": {
      "text/plain": [
       "{1, 2, 3, 4}"
      ]
     },
     "execution_count": 75,
     "metadata": {},
     "output_type": "execute_result"
    }
   ],
   "source": [
    "x = {1,1,2,2,3,3,4,4}\n",
    "x"
   ]
  },
  {
   "cell_type": "code",
   "execution_count": 76,
   "id": "8225b00c",
   "metadata": {},
   "outputs": [],
   "source": [
    "x = {56,9,34,89,12}"
   ]
  },
  {
   "cell_type": "code",
   "execution_count": 77,
   "id": "8599c00d",
   "metadata": {},
   "outputs": [
    {
     "data": {
      "text/plain": [
       "{9, 12, 34, 56, 89}"
      ]
     },
     "execution_count": 77,
     "metadata": {},
     "output_type": "execute_result"
    }
   ],
   "source": [
    "x"
   ]
  },
  {
   "cell_type": "code",
   "execution_count": 80,
   "id": "e98f2655",
   "metadata": {},
   "outputs": [
    {
     "data": {
      "text/plain": [
       "{-234, -7, 0, True, 34, 45, 90}"
      ]
     },
     "execution_count": 80,
     "metadata": {},
     "output_type": "execute_result"
    }
   ],
   "source": [
    "x = {0,45,90,-7,34,-234,False,True}\n",
    "x"
   ]
  },
  {
   "cell_type": "code",
   "execution_count": 81,
   "id": "38293018",
   "metadata": {},
   "outputs": [
    {
     "ename": "TypeError",
     "evalue": "'set' object is not subscriptable",
     "output_type": "error",
     "traceback": [
      "\u001b[1;31m---------------------------------------------------------------------------\u001b[0m",
      "\u001b[1;31mTypeError\u001b[0m                                 Traceback (most recent call last)",
      "\u001b[1;32m~\\AppData\\Local\\Temp/ipykernel_8208/3629782281.py\u001b[0m in \u001b[0;36m<module>\u001b[1;34m\u001b[0m\n\u001b[1;32m----> 1\u001b[1;33m \u001b[0mx\u001b[0m\u001b[1;33m[\u001b[0m\u001b[1;36m0\u001b[0m\u001b[1;33m]\u001b[0m\u001b[1;33m\u001b[0m\u001b[1;33m\u001b[0m\u001b[0m\n\u001b[0m",
      "\u001b[1;31mTypeError\u001b[0m: 'set' object is not subscriptable"
     ]
    }
   ],
   "source": [
    "x[0]\n",
    "\n",
    "# no index\n",
    "# no slicing\n",
    "# immutable\n",
    "# no duplicacy\n"
   ]
  },
  {
   "cell_type": "code",
   "execution_count": 82,
   "id": "37f77d27",
   "metadata": {},
   "outputs": [],
   "source": [
    "# #single element set\n",
    "# #empty set\n",
    "\n",
    "\n",
    "\n",
    "# add\n",
    "# clr\n",
    "# copy\n",
    "# update\n",
    "# remove\n",
    "# pop\n",
    "\n",
    "s = {3}"
   ]
  },
  {
   "cell_type": "code",
   "execution_count": 83,
   "id": "564f4d9c",
   "metadata": {},
   "outputs": [
    {
     "data": {
      "text/plain": [
       "set"
      ]
     },
     "execution_count": 83,
     "metadata": {},
     "output_type": "execute_result"
    }
   ],
   "source": [
    "type(s)"
   ]
  },
  {
   "cell_type": "code",
   "execution_count": 84,
   "id": "60494902",
   "metadata": {},
   "outputs": [
    {
     "data": {
      "text/plain": [
       "dict"
      ]
     },
     "execution_count": 84,
     "metadata": {},
     "output_type": "execute_result"
    }
   ],
   "source": [
    "s = {}\n",
    "type(s)"
   ]
  },
  {
   "cell_type": "code",
   "execution_count": 85,
   "id": "dbbe552a",
   "metadata": {},
   "outputs": [],
   "source": [
    "# empty set\n",
    "s = set()"
   ]
  },
  {
   "cell_type": "code",
   "execution_count": 86,
   "id": "ee93b588",
   "metadata": {},
   "outputs": [
    {
     "data": {
      "text/plain": [
       "set"
      ]
     },
     "execution_count": 86,
     "metadata": {},
     "output_type": "execute_result"
    }
   ],
   "source": [
    "type(s)"
   ]
  },
  {
   "cell_type": "code",
   "execution_count": null,
   "id": "9c017a46",
   "metadata": {},
   "outputs": [],
   "source": []
  }
 ],
 "metadata": {
  "kernelspec": {
   "display_name": "Python 3 (ipykernel)",
   "language": "python",
   "name": "python3"
  },
  "language_info": {
   "codemirror_mode": {
    "name": "ipython",
    "version": 3
   },
   "file_extension": ".py",
   "mimetype": "text/x-python",
   "name": "python",
   "nbconvert_exporter": "python",
   "pygments_lexer": "ipython3",
   "version": "3.9.7"
  }
 },
 "nbformat": 4,
 "nbformat_minor": 5
}
