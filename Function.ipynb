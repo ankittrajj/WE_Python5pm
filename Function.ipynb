{
 "cells": [
  {
   "cell_type": "code",
   "execution_count": 1,
   "id": "55d6ba72",
   "metadata": {},
   "outputs": [
    {
     "name": "stdout",
     "output_type": "stream",
     "text": [
      "walk\n"
     ]
    }
   ],
   "source": [
    "print('walk')"
   ]
  },
  {
   "cell_type": "code",
   "execution_count": 2,
   "id": "a64e34af",
   "metadata": {},
   "outputs": [],
   "source": [
    "#syntax of the function.\n",
    "# define_the_function name_of_function():\n",
    "#     print_the_msg()"
   ]
  },
  {
   "cell_type": "code",
   "execution_count": 7,
   "id": "9205a869",
   "metadata": {},
   "outputs": [
    {
     "name": "stdout",
     "output_type": "stream",
     "text": [
      "Good morning!!\n"
     ]
    }
   ],
   "source": [
    "def greet():\n",
    "    print(\"Good morning!!\")\n",
    "\n",
    "greet()"
   ]
  },
  {
   "cell_type": "code",
   "execution_count": 4,
   "id": "057ef027",
   "metadata": {},
   "outputs": [
    {
     "name": "stdout",
     "output_type": "stream",
     "text": [
      "Good morning!!\n"
     ]
    }
   ],
   "source": [
    "greet()"
   ]
  },
  {
   "cell_type": "code",
   "execution_count": 9,
   "id": "849f1c95",
   "metadata": {},
   "outputs": [],
   "source": [
    "# wap to add two numbers using function!!\n",
    "def add():\n",
    "    a = 1\n",
    "    b = 2\n",
    "    c = a+b\n",
    "    print(c)\n"
   ]
  },
  {
   "cell_type": "code",
   "execution_count": 10,
   "id": "1e415e7a",
   "metadata": {},
   "outputs": [
    {
     "name": "stdout",
     "output_type": "stream",
     "text": [
      "3\n"
     ]
    }
   ],
   "source": [
    "add()"
   ]
  },
  {
   "cell_type": "markdown",
   "id": "b66fc2ec",
   "metadata": {},
   "source": [
    "# function---->\n",
    "# no return no arg\n",
    "# no return with arg\n",
    "# with retrun with arg\n",
    "# with return no arg"
   ]
  },
  {
   "cell_type": "code",
   "execution_count": 12,
   "id": "a7492603",
   "metadata": {},
   "outputs": [
    {
     "name": "stdout",
     "output_type": "stream",
     "text": [
      "15\n"
     ]
    }
   ],
   "source": [
    "# no retrun no arg\n",
    "# type1.\n",
    "\n",
    "def add():\n",
    "    a = 8\n",
    "    b = 7\n",
    "    c = a+b\n",
    "    print(c)\n",
    "add()"
   ]
  },
  {
   "cell_type": "code",
   "execution_count": 14,
   "id": "e14e58c9",
   "metadata": {},
   "outputs": [
    {
     "name": "stdout",
     "output_type": "stream",
     "text": [
      "17\n"
     ]
    }
   ],
   "source": [
    "# type2 ----- with arg no return\n",
    "\n",
    "def add(x,y):\n",
    "    result = x+y\n",
    "    print(result)\n",
    "    \n",
    "    \n",
    "add(9,8)\n",
    "    "
   ]
  },
  {
   "cell_type": "code",
   "execution_count": 15,
   "id": "9427bd07",
   "metadata": {},
   "outputs": [
    {
     "data": {
      "text/plain": [
       "13"
      ]
     },
     "execution_count": 15,
     "metadata": {},
     "output_type": "execute_result"
    }
   ],
   "source": [
    "# type 3------> with arg with return\n",
    "\n",
    "def add(x,y):\n",
    "    result = x+y\n",
    "    return result\n",
    "add(6,7)\n",
    "    "
   ]
  },
  {
   "cell_type": "code",
   "execution_count": 16,
   "id": "0102eb55",
   "metadata": {},
   "outputs": [
    {
     "name": "stdout",
     "output_type": "stream",
     "text": [
      "kjbvhuvghjuiv\n"
     ]
    }
   ],
   "source": [
    "print(\"kjbvhuvghjuiv\")"
   ]
  },
  {
   "cell_type": "code",
   "execution_count": 17,
   "id": "babb650b",
   "metadata": {},
   "outputs": [
    {
     "ename": "SyntaxError",
     "evalue": "'return' outside function (Temp/ipykernel_5264/3835805442.py, line 1)",
     "output_type": "error",
     "traceback": [
      "\u001b[1;36m  File \u001b[1;32m\"C:\\Users\\Satyam\\AppData\\Local\\Temp/ipykernel_5264/3835805442.py\"\u001b[1;36m, line \u001b[1;32m1\u001b[0m\n\u001b[1;33m    return (\"kjbvhjvfjvj\")\u001b[0m\n\u001b[1;37m    ^\u001b[0m\n\u001b[1;31mSyntaxError\u001b[0m\u001b[1;31m:\u001b[0m 'return' outside function\n"
     ]
    }
   ],
   "source": [
    "return (\"kjbvhjvfjvj\")"
   ]
  },
  {
   "cell_type": "code",
   "execution_count": 18,
   "id": "3117df2f",
   "metadata": {},
   "outputs": [
    {
     "data": {
      "text/plain": [
       "5"
      ]
     },
     "execution_count": 18,
     "metadata": {},
     "output_type": "execute_result"
    }
   ],
   "source": [
    "# no arg with return\n",
    "def function():\n",
    "    a = 1\n",
    "    b = 4\n",
    "    c = a+b\n",
    "    return c\n",
    "function()"
   ]
  },
  {
   "cell_type": "code",
   "execution_count": null,
   "id": "7a6a1ad0",
   "metadata": {},
   "outputs": [],
   "source": [
    "#wap to find max no. from three numbers using function.\n",
    "#wap to find min no. from three numbers using function.\n",
    "#Wap to sum all number present in a list.\n",
    "#wap to check a string is reversed or not?\n",
    "#Wap to find odd number using function\n",
    "#wap to find even no. using function."
   ]
  },
  {
   "cell_type": "code",
   "execution_count": 19,
   "id": "9ce292ec",
   "metadata": {},
   "outputs": [
    {
     "name": "stdout",
     "output_type": "stream",
     "text": [
      "palindrome\n"
     ]
    }
   ],
   "source": [
    "def rev(str):\n",
    "    y=str[::-1]\n",
    "    if y==str:\n",
    "        print(\"palindrome\")\n",
    "    else:\n",
    "        print('Np')\n",
    "rev('racecar')"
   ]
  },
  {
   "cell_type": "code",
   "execution_count": 25,
   "id": "2a7108ac",
   "metadata": {},
   "outputs": [
    {
     "name": "stdout",
     "output_type": "stream",
     "text": [
      "19\n"
     ]
    }
   ],
   "source": [
    "#Wap to sum all number present in a list.\n",
    "a = [2,5,8,4]\n",
    "def add_list(a):\n",
    "    total = 0\n",
    "    for i in a:\n",
    "        total = total+i\n",
    "    print(total)\n",
    "    \n",
    "add_list(a)\n",
    "    \n",
    "    "
   ]
  },
  {
   "cell_type": "markdown",
   "id": "72d9ba8a",
   "metadata": {},
   "source": [
    "# Default Arguments"
   ]
  },
  {
   "cell_type": "code",
   "execution_count": 41,
   "id": "319a1af4",
   "metadata": {},
   "outputs": [
    {
     "data": {
      "text/plain": [
       "4"
      ]
     },
     "execution_count": 41,
     "metadata": {},
     "output_type": "execute_result"
    }
   ],
   "source": [
    "def add(x=9,y=10,z=8):\n",
    "    a = x+y+z\n",
    "    return a\n",
    "add(1,2,1)"
   ]
  },
  {
   "cell_type": "code",
   "execution_count": 33,
   "id": "70da5567",
   "metadata": {},
   "outputs": [
    {
     "data": {
      "text/plain": [
       "11"
      ]
     },
     "execution_count": 33,
     "metadata": {},
     "output_type": "execute_result"
    }
   ],
   "source": [
    "add(1)"
   ]
  },
  {
   "cell_type": "code",
   "execution_count": 34,
   "id": "9666d183",
   "metadata": {},
   "outputs": [
    {
     "data": {
      "text/plain": [
       "19"
      ]
     },
     "execution_count": 34,
     "metadata": {},
     "output_type": "execute_result"
    }
   ],
   "source": [
    "add()"
   ]
  },
  {
   "cell_type": "code",
   "execution_count": 38,
   "id": "096416af",
   "metadata": {},
   "outputs": [
    {
     "data": {
      "text/plain": [
       "17"
      ]
     },
     "execution_count": 38,
     "metadata": {},
     "output_type": "execute_result"
    }
   ],
   "source": [
    "add(7)"
   ]
  },
  {
   "cell_type": "code",
   "execution_count": null,
   "id": "371fcf3f",
   "metadata": {},
   "outputs": [],
   "source": []
  },
  {
   "cell_type": "code",
   "execution_count": null,
   "id": "5ae25500",
   "metadata": {},
   "outputs": [],
   "source": []
  },
  {
   "cell_type": "code",
   "execution_count": 6,
   "id": "fd0bb500",
   "metadata": {},
   "outputs": [
    {
     "name": "stdout",
     "output_type": "stream",
     "text": [
      "Good morning!!\n"
     ]
    }
   ],
   "source": []
  },
  {
   "cell_type": "code",
   "execution_count": null,
   "id": "399b1d3c",
   "metadata": {},
   "outputs": [],
   "source": []
  }
 ],
 "metadata": {
  "kernelspec": {
   "display_name": "Python 3 (ipykernel)",
   "language": "python",
   "name": "python3"
  },
  "language_info": {
   "codemirror_mode": {
    "name": "ipython",
    "version": 3
   },
   "file_extension": ".py",
   "mimetype": "text/x-python",
   "name": "python",
   "nbconvert_exporter": "python",
   "pygments_lexer": "ipython3",
   "version": "3.9.7"
  }
 },
 "nbformat": 4,
 "nbformat_minor": 5
}
