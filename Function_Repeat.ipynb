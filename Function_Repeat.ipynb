{
 "cells": [
  {
   "cell_type": "code",
   "execution_count": 1,
   "id": "b2c8db18",
   "metadata": {},
   "outputs": [],
   "source": [
    "def greet():\n",
    "    print(\"hello bhai!!\")"
   ]
  },
  {
   "cell_type": "code",
   "execution_count": 2,
   "id": "ca741546",
   "metadata": {},
   "outputs": [
    {
     "name": "stdout",
     "output_type": "stream",
     "text": [
      "hello bhai!!\n"
     ]
    }
   ],
   "source": [
    "greet()"
   ]
  },
  {
   "cell_type": "code",
   "execution_count": 3,
   "id": "77343f94",
   "metadata": {},
   "outputs": [
    {
     "name": "stdout",
     "output_type": "stream",
     "text": [
      "\n",
      "ghh\n"
     ]
    },
    {
     "data": {
      "text/plain": [
       "'ghh'"
      ]
     },
     "execution_count": 3,
     "metadata": {},
     "output_type": "execute_result"
    }
   ],
   "source": [
    "print()\n",
    "input()"
   ]
  },
  {
   "cell_type": "code",
   "execution_count": 4,
   "id": "655706e7",
   "metadata": {},
   "outputs": [
    {
     "name": "stdout",
     "output_type": "stream",
     "text": [
      "hello bhai!!\n"
     ]
    }
   ],
   "source": [
    "greet()"
   ]
  },
  {
   "cell_type": "code",
   "execution_count": null,
   "id": "647c8439",
   "metadata": {},
   "outputs": [],
   "source": [
    "#wap which can say u good morning!! with the help of function!!"
   ]
  },
  {
   "cell_type": "code",
   "execution_count": null,
   "id": "dec43083",
   "metadata": {},
   "outputs": [],
   "source": [
    "# function----- 4type\n",
    "# no return no arg\n",
    "# no return with arg\n",
    "# with return with arg\n",
    "# with return no arg."
   ]
  },
  {
   "cell_type": "code",
   "execution_count": 16,
   "id": "6f55a9fa",
   "metadata": {},
   "outputs": [
    {
     "name": "stdout",
     "output_type": "stream",
     "text": [
      "16\n"
     ]
    }
   ],
   "source": [
    "def add():\n",
    "    a = 9\n",
    "    b = 7\n",
    "    c = a+b\n",
    "    print(c)\n",
    "add()"
   ]
  },
  {
   "cell_type": "code",
   "execution_count": 18,
   "id": "f9b607b0",
   "metadata": {},
   "outputs": [
    {
     "name": "stdout",
     "output_type": "stream",
     "text": [
      "10\n"
     ]
    }
   ],
   "source": [
    "# with arg no return\n",
    "def add(x,y):\n",
    "    z = x+y\n",
    "    print(z)\n",
    "    \n",
    "add(3,7)"
   ]
  },
  {
   "cell_type": "code",
   "execution_count": null,
   "id": "363af05c",
   "metadata": {},
   "outputs": [],
   "source": [
    "#wap to add and sub using function with the help of arg!!\n"
   ]
  },
  {
   "cell_type": "code",
   "execution_count": null,
   "id": "ca3150d2",
   "metadata": {},
   "outputs": [],
   "source": []
  },
  {
   "cell_type": "code",
   "execution_count": 5,
   "id": "214c5902",
   "metadata": {},
   "outputs": [
    {
     "name": "stdout",
     "output_type": "stream",
     "text": [
      "hello bhai!!\n"
     ]
    }
   ],
   "source": [
    "greet()"
   ]
  },
  {
   "cell_type": "code",
   "execution_count": 6,
   "id": "32c24e3c",
   "metadata": {},
   "outputs": [
    {
     "data": {
      "text/plain": [
       "<function __main__.greet()>"
      ]
     },
     "execution_count": 6,
     "metadata": {},
     "output_type": "execute_result"
    }
   ],
   "source": [
    "greet"
   ]
  },
  {
   "cell_type": "code",
   "execution_count": 7,
   "id": "5a0993c5",
   "metadata": {},
   "outputs": [
    {
     "name": "stdout",
     "output_type": "stream",
     "text": [
      "hello bhai!!\n"
     ]
    }
   ],
   "source": [
    "greet()"
   ]
  },
  {
   "cell_type": "code",
   "execution_count": 20,
   "id": "36c02681",
   "metadata": {},
   "outputs": [
    {
     "data": {
      "text/plain": [
       "8"
      ]
     },
     "execution_count": 20,
     "metadata": {},
     "output_type": "execute_result"
    }
   ],
   "source": [
    "# with arg with return\n",
    "def adddd(x,y):\n",
    "    z = x+y\n",
    "    return z\n",
    "adddd(6,2)"
   ]
  },
  {
   "cell_type": "code",
   "execution_count": 25,
   "id": "1ea00163",
   "metadata": {},
   "outputs": [
    {
     "data": {
      "text/plain": [
       "7"
      ]
     },
     "execution_count": 25,
     "metadata": {},
     "output_type": "execute_result"
    }
   ],
   "source": [
    "# with return no arg\n",
    "def addd():\n",
    "    a=3\n",
    "    b=4\n",
    "    c=a+b\n",
    "    return c\n",
    "\n",
    "addd()\n"
   ]
  },
  {
   "cell_type": "code",
   "execution_count": 36,
   "id": "c804b537",
   "metadata": {},
   "outputs": [
    {
     "data": {
      "text/plain": [
       "18"
      ]
     },
     "execution_count": 36,
     "metadata": {},
     "output_type": "execute_result"
    }
   ],
   "source": [
    "# Default Arg\n",
    "\n",
    "def add(x,y=8,z=9):\n",
    "    result = x+y+z\n",
    "    return result\n",
    "add(3,4,5)\n",
    "add(1)\n",
    "    "
   ]
  },
  {
   "cell_type": "code",
   "execution_count": 44,
   "id": "2c9afc31",
   "metadata": {},
   "outputs": [
    {
     "name": "stdout",
     "output_type": "stream",
     "text": [
      "NP\n"
     ]
    }
   ],
   "source": [
    "#  Write a function to check a string is palindrome or not?\n",
    "def palindrome():\n",
    "    x = 'ankit'\n",
    "    y = ''\n",
    "    for i in x:\n",
    "        y = i+y\n",
    "    if x==y:\n",
    "        print(\"Palindrome\")\n",
    "    else:\n",
    "        print(\"NP\")\n",
    "palindrome()"
   ]
  },
  {
   "cell_type": "code",
   "execution_count": 45,
   "id": "fd7cc404",
   "metadata": {},
   "outputs": [
    {
     "data": {
      "text/plain": [
       "'tikna'"
      ]
     },
     "execution_count": 45,
     "metadata": {},
     "output_type": "execute_result"
    }
   ],
   "source": [
    "a = 'ankit'\n",
    "a[::-1]"
   ]
  },
  {
   "cell_type": "code",
   "execution_count": 48,
   "id": "5b031aff",
   "metadata": {},
   "outputs": [
    {
     "name": "stdout",
     "output_type": "stream",
     "text": [
      "Pallindrome\n"
     ]
    }
   ],
   "source": [
    "x='madam'\n",
    "y=''\n",
    "def abc(x,y):\n",
    "    for i in x:\n",
    "        y=i+y\n",
    "    if x==y:\n",
    "        print('Pallindrome')\n",
    "    else:\n",
    "        print('No Pallindrome')\n",
    "            \n",
    "           \n",
    "abc(x,y)  "
   ]
  },
  {
   "cell_type": "code",
   "execution_count": 56,
   "id": "9a1bb333",
   "metadata": {},
   "outputs": [
    {
     "name": "stdout",
     "output_type": "stream",
     "text": [
      "a\n",
      "ba\n",
      "cba\n",
      "dcba\n"
     ]
    }
   ],
   "source": [
    "x = \"abcd\"\n",
    "y = ''\n",
    "for i in x:\n",
    "    y = i+y\n",
    "    print(y)\n",
    "    "
   ]
  },
  {
   "cell_type": "code",
   "execution_count": 53,
   "id": "254b406d",
   "metadata": {},
   "outputs": [
    {
     "data": {
      "text/plain": [
       "list"
      ]
     },
     "execution_count": 53,
     "metadata": {},
     "output_type": "execute_result"
    }
   ],
   "source": [
    "type(x)"
   ]
  },
  {
   "cell_type": "code",
   "execution_count": 54,
   "id": "85cf7e91",
   "metadata": {},
   "outputs": [
    {
     "data": {
      "text/plain": [
       "int"
      ]
     },
     "execution_count": 54,
     "metadata": {},
     "output_type": "execute_result"
    }
   ],
   "source": [
    "type(i)"
   ]
  },
  {
   "cell_type": "code",
   "execution_count": 59,
   "id": "8ab08d5b",
   "metadata": {},
   "outputs": [
    {
     "name": "stdout",
     "output_type": "stream",
     "text": [
      "80.0\n",
      "low amount\n"
     ]
    }
   ],
   "source": [
    "# Wap to find out the average cost of 5 quantity each\n",
    "# quantity is having the value of 80 and \n",
    "# if the value exceed by\n",
    "# avg value then also calculate the\n",
    "# total price of whole quantity\n",
    "# avg value => 350.\n",
    "\n",
    "quantity = 5\n",
    "each_price = 80\n",
    "total_price = quantity*each_price\n",
    "avg_price = total_price/quantity\n",
    "print(avg_price)\n",
    "\n",
    "if avg_price>=350:\n",
    "    total_price = quantity*each_price\n",
    "    print(total_price)\n",
    "else:\n",
    "    print(\"low amount\")\n",
    "    \n",
    "\n",
    "\n",
    "\n"
   ]
  },
  {
   "cell_type": "code",
   "execution_count": null,
   "id": "a83c2a95",
   "metadata": {},
   "outputs": [],
   "source": []
  }
 ],
 "metadata": {
  "kernelspec": {
   "display_name": "Python 3 (ipykernel)",
   "language": "python",
   "name": "python3"
  },
  "language_info": {
   "codemirror_mode": {
    "name": "ipython",
    "version": 3
   },
   "file_extension": ".py",
   "mimetype": "text/x-python",
   "name": "python",
   "nbconvert_exporter": "python",
   "pygments_lexer": "ipython3",
   "version": "3.9.7"
  }
 },
 "nbformat": 4,
 "nbformat_minor": 5
}
