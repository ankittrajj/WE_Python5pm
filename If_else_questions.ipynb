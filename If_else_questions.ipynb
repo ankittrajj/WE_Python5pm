{
 "cells": [
  {
   "cell_type": "code",
   "execution_count": 5,
   "id": "3765da80",
   "metadata": {},
   "outputs": [
    {
     "name": "stdout",
     "output_type": "stream",
     "text": [
      "Net bonus will received is -----> 1000.0\n",
      "Salary after bonus will be ------> 21000.0\n"
     ]
    }
   ],
   "source": [
    "# A company decided to give bonus of 5% \n",
    "# to employee if his/her year of service is more than 5 years.\n",
    "# Ask user for their salary and year of service and \n",
    "# print the net bonus amount.\n",
    "\n",
    "year_of_service = 30\n",
    "salary = 20000\n",
    "\n",
    "if year_of_service>5:\n",
    "    net_bonus = (salary * 5)/100\n",
    "    total_sal = salary+net_bonus\n",
    "    print(\"Net bonus will received is ----->\",net_bonus)\n",
    "    print(\"Salary after bonus will be ------>\",total_sal)\n",
    "else:\n",
    "    print(\"Bonus nahi milega\")\n",
    "\n",
    "\n"
   ]
  },
  {
   "cell_type": "code",
   "execution_count": 6,
   "id": "45658dcc",
   "metadata": {},
   "outputs": [
    {
     "name": "stdout",
     "output_type": "stream",
     "text": [
      "hello world\n"
     ]
    }
   ],
   "source": [
    "# data types----->\n",
    "# variables\n",
    "# condition\n",
    "\n",
    "\n",
    "print('hello world')"
   ]
  },
  {
   "cell_type": "code",
   "execution_count": 9,
   "id": "2ea12f91",
   "metadata": {},
   "outputs": [
    {
     "name": "stdout",
     "output_type": "stream",
     "text": [
      "21\n"
     ]
    }
   ],
   "source": [
    "x=1\n",
    "y=20\n",
    "z = x+y\n",
    "print(z)"
   ]
  },
  {
   "cell_type": "code",
   "execution_count": 7,
   "id": "bfa4f6bf",
   "metadata": {},
   "outputs": [
    {
     "data": {
      "text/plain": [
       "3"
      ]
     },
     "execution_count": 7,
     "metadata": {},
     "output_type": "execute_result"
    }
   ],
   "source": [
    "1+2"
   ]
  },
  {
   "cell_type": "code",
   "execution_count": 14,
   "id": "a31155c2",
   "metadata": {},
   "outputs": [
    {
     "name": "stdout",
     "output_type": "stream",
     "text": [
      "rectangle square!!\n"
     ]
    }
   ],
   "source": [
    "# -,*,/\n",
    "length = 5\n",
    "breadth = 4\n",
    "# if \n",
    "if length == 5:\n",
    "    print(\"rectangle square!!\")\n",
    "else:\n",
    "    print(\"not rectangle!!\")"
   ]
  },
  {
   "cell_type": "code",
   "execution_count": 15,
   "id": "12ffa35e",
   "metadata": {},
   "outputs": [
    {
     "name": "stdout",
     "output_type": "stream",
     "text": [
      "-10\n"
     ]
    }
   ],
   "source": [
    "a=10\n",
    "b=20\n",
    "c=a-b\n",
    "\n",
    "print(c)\n",
    "\n"
   ]
  },
  {
   "cell_type": "code",
   "execution_count": 16,
   "id": "2fa6b3ef",
   "metadata": {},
   "outputs": [
    {
     "name": "stdout",
     "output_type": "stream",
     "text": [
      "200\n"
     ]
    }
   ],
   "source": [
    "a=10\n",
    "b=20\n",
    "c=a*b\n",
    "print(c)\n",
    "\n"
   ]
  },
  {
   "cell_type": "code",
   "execution_count": 23,
   "id": "66cd36f7",
   "metadata": {},
   "outputs": [
    {
     "name": "stdout",
     "output_type": "stream",
     "text": [
      "2\n"
     ]
    }
   ],
   "source": [
    "a=4\n",
    "b=2\n",
    "c=a//b\n",
    "print(c)"
   ]
  },
  {
   "cell_type": "code",
   "execution_count": 21,
   "id": "f4d5c3b6",
   "metadata": {},
   "outputs": [
    {
     "name": "stdout",
     "output_type": "stream",
     "text": [
      "1\n"
     ]
    }
   ],
   "source": [
    "a=4\n",
    "b=3\n",
    "c=a//b\n",
    "print(c)"
   ]
  },
  {
   "cell_type": "code",
   "execution_count": 29,
   "id": "5326295c",
   "metadata": {},
   "outputs": [
    {
     "name": "stdout",
     "output_type": "stream",
     "text": [
      "Cost after discount ---->  9000.0\n",
      "Discount u will receive will be ---->  1000.0\n"
     ]
    }
   ],
   "source": [
    "# mod operator-----> %\n",
    "\n",
    "\n",
    "unit_cost = 100\n",
    "unit_items = 100\n",
    "total_cost = unit_cost*unit_items\n",
    "\n",
    "if total_cost>1000:\n",
    "    dis = (total_cost *10)/100\n",
    "    total_price_paid = total_cost - dis\n",
    "    print(\"Cost after discount ----> \",total_price_paid)\n",
    "    \n",
    "    \n",
    "    print(\"Discount u will receive will be ----> \",dis)\n",
    "    \n",
    "else:\n",
    "    print(\"no discount\")"
   ]
  },
  {
   "cell_type": "code",
   "execution_count": 31,
   "id": "48e69b2e",
   "metadata": {},
   "outputs": [
    {
     "name": "stdout",
     "output_type": "stream",
     "text": [
      "1\n"
     ]
    }
   ],
   "source": [
    "# mod operator----> \n",
    "\n",
    "a = 11\n",
    "b = 5\n",
    "c = a%b\n",
    "print(c)\n"
   ]
  },
  {
   "cell_type": "code",
   "execution_count": 32,
   "id": "89a870e9",
   "metadata": {},
   "outputs": [
    {
     "name": "stdout",
     "output_type": "stream",
     "text": [
      "Enter something!!12\n",
      "12\n"
     ]
    }
   ],
   "source": [
    "#user input----\n",
    "a = input(\"Enter something!!\")\n",
    "print(a)\n",
    "\n",
    "\n",
    "\n"
   ]
  },
  {
   "cell_type": "code",
   "execution_count": 33,
   "id": "04eeefb8",
   "metadata": {},
   "outputs": [
    {
     "name": "stdout",
     "output_type": "stream",
     "text": [
      "enter marks45\n",
      "Grade A\n"
     ]
    }
   ],
   "source": [
    "#wap to add two numbers with the help of user input .\n",
    "\n",
    "marks= int(input(\"enter marks\"))\n",
    "if marks<25:\n",
    "    print(\"Grade F\")\n",
    "elif marks>=25 and marks<45:\n",
    "    print(\"Grade E\")\n",
    "elif marks>45 and marks<50:\n",
    "    print(\"Grade D\")\n",
    "elif marks>50 and marks<60:\n",
    "    print(\"Grade c\")\n",
    "elif marks>60 and marks<80:\n",
    "    print(\"Grade B\")\n",
    "else:\n",
    "    print(\"Grade A\")\n"
   ]
  },
  {
   "cell_type": "code",
   "execution_count": 34,
   "id": "7e25a3da",
   "metadata": {},
   "outputs": [
    {
     "name": "stdout",
     "output_type": "stream",
     "text": [
      "Enter age: 2\n",
      "Enter age: 3\n",
      "Enter age: 4\n",
      "2 is the youngest\n",
      "4 is the oldest\n"
     ]
    }
   ],
   "source": [
    "age1=int(input('Enter age: '))\n",
    "age2=int(input('Enter age: '))\n",
    "age3=int(input('Enter age: '))\n",
    "if age1>age2 and age1>age3:\n",
    "    if age2<age3:\n",
    "        print(age2,'is the youngest')\n",
    "    else:\n",
    "        print(age3,'is the youngest')\n",
    "    print(age1,'is the oldest')\n",
    "elif age2>age1 and age2>age3:\n",
    "    if age1<age3:\n",
    "        print(age1,'is the youngest')\n",
    "    else:\n",
    "        print(age3,'is the youngest')\n",
    "    print(age2,'is the oldest')\n",
    "else:\n",
    "    if age1<age2:\n",
    "        print(age1,'is the youngest')\n",
    "    else:\n",
    "        print(age2,'is the youngest')\n",
    "    print(age3,'is the oldest')"
   ]
  },
  {
   "cell_type": "code",
   "execution_count": 44,
   "id": "289c88d8",
   "metadata": {},
   "outputs": [
    {
     "name": "stdout",
     "output_type": "stream",
     "text": [
      "E grade\n"
     ]
    }
   ],
   "source": [
    "# A school has following rules for grading system:\n",
    "# a. Below 25 - F\n",
    "# b. 25 to 45 - E\n",
    "# c. 45 to 50 - D\n",
    "# d. 50 to 60 - C\n",
    "# e. 60 to 80 - B\n",
    "# f. Above 80 - A\n",
    "# Ask user to enter marks and print the corresponding grade\n",
    "\n",
    "\n",
    "marks = 45\n",
    "if marks>= 80:\n",
    "    print(\"A grade\")\n",
    "elif marks > 60 and marks< 80:\n",
    "    print(\"B grade\")\n",
    "elif marks> 50 and marks < 60:\n",
    "    print(\"C grade\")\n",
    "elif marks> 45 and marks < 50:\n",
    "    print(\"D grade\")\n",
    "elif marks> 25 and marks <= 45:\n",
    "    print('E grade')\n",
    "elif marks <= 25:\n",
    "    print(\"F grade\")\n",
    "else:\n",
    "    print(\"Invalid output\")\n",
    "    \n",
    "\n",
    "    \n"
   ]
  },
  {
   "cell_type": "code",
   "execution_count": null,
   "id": "fe47f05d",
   "metadata": {},
   "outputs": [],
   "source": []
  }
 ],
 "metadata": {
  "kernelspec": {
   "display_name": "Python 3 (ipykernel)",
   "language": "python",
   "name": "python3"
  },
  "language_info": {
   "codemirror_mode": {
    "name": "ipython",
    "version": 3
   },
   "file_extension": ".py",
   "mimetype": "text/x-python",
   "name": "python",
   "nbconvert_exporter": "python",
   "pygments_lexer": "ipython3",
   "version": "3.9.7"
  }
 },
 "nbformat": 4,
 "nbformat_minor": 5
}
