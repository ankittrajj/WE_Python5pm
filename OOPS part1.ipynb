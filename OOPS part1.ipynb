{
 "cells": [
  {
   "cell_type": "code",
   "execution_count": 4,
   "id": "99af2a87",
   "metadata": {},
   "outputs": [
    {
     "name": "stdout",
     "output_type": "stream",
     "text": [
      "This is my car\n"
     ]
    },
    {
     "data": {
      "text/plain": [
       "<__main__.car at 0x1a2511414f0>"
      ]
     },
     "execution_count": 4,
     "metadata": {},
     "output_type": "execute_result"
    }
   ],
   "source": [
    "class car:\n",
    "    print(\"This is my car\")\n",
    "    \n",
    "car()"
   ]
  },
  {
   "cell_type": "code",
   "execution_count": 5,
   "id": "4ab4c239",
   "metadata": {},
   "outputs": [
    {
     "name": "stdout",
     "output_type": "stream",
     "text": [
      "15\n"
     ]
    },
    {
     "data": {
      "text/plain": [
       "<__main__.add at 0x1a25110d610>"
      ]
     },
     "execution_count": 5,
     "metadata": {},
     "output_type": "execute_result"
    }
   ],
   "source": [
    "#wap to add two number using oops(class & object)?\n",
    "class add:\n",
    "    a=5\n",
    "    b=10\n",
    "    c=a+b\n",
    "    print(c)\n",
    "add()\n"
   ]
  },
  {
   "cell_type": "code",
   "execution_count": 6,
   "id": "5608b6d3",
   "metadata": {},
   "outputs": [
    {
     "name": "stdout",
     "output_type": "stream",
     "text": [
      "5\n"
     ]
    },
    {
     "data": {
      "text/plain": [
       "<__main__.add at 0x1a251141be0>"
      ]
     },
     "execution_count": 6,
     "metadata": {},
     "output_type": "execute_result"
    }
   ],
   "source": [
    "#wap to add two number using oops & function(class & object)?\n",
    "class add:\n",
    "    def addd(a,b):\n",
    "        c=a+b\n",
    "        print(c)\n",
    "    addd(2,3)\n",
    "add()\n"
   ]
  },
  {
   "cell_type": "code",
   "execution_count": 14,
   "id": "2ca75fcc",
   "metadata": {},
   "outputs": [
    {
     "data": {
      "text/plain": [
       "7"
      ]
     },
     "execution_count": 14,
     "metadata": {},
     "output_type": "execute_result"
    }
   ],
   "source": [
    "class add:\n",
    "    def fun(self,a,b):\n",
    "        result = a+b\n",
    "        return result\n",
    "\n",
    "a = add()\n",
    "a.fun(3,4)\n",
    "        "
   ]
  },
  {
   "cell_type": "code",
   "execution_count": 16,
   "id": "e0a25da8",
   "metadata": {},
   "outputs": [
    {
     "data": {
      "text/plain": [
       "19000.0"
      ]
     },
     "execution_count": 16,
     "metadata": {},
     "output_type": "execute_result"
    }
   ],
   "source": [
    "# wap  to find the salary of a emp\n",
    "# if emp takes more than 10 holidays in a year\n",
    "# there will be deduction of 5% from the total salary.\n",
    "\n",
    "\n",
    "class emp:\n",
    "    def func(self ,salary,holiday):\n",
    "        if holiday>10:\n",
    "            ded = salary - (salary*5)/100\n",
    "            return ded\n",
    "        else:\n",
    "            print(\"Less holidays\")\n",
    "\n",
    "e = emp()\n",
    "e.func(20000,30)\n",
    "        "
   ]
  },
  {
   "cell_type": "code",
   "execution_count": 17,
   "id": "487d0b39",
   "metadata": {},
   "outputs": [],
   "source": [
    "# wap  to find the salary of a emp\n",
    "# if emp takes more than 10 holidays in a year\n",
    "# there will be deduction of 5% from the total salary.\n",
    "# if holidays are less than 5 then there will\n",
    "# be incentive of \n",
    "# 7 and half percent\n",
    "# if holidays is exactly 5 then no deduction no incentive."
   ]
  },
  {
   "cell_type": "code",
   "execution_count": 18,
   "id": "afc26f66",
   "metadata": {},
   "outputs": [
    {
     "name": "stdout",
     "output_type": "stream",
     "text": [
      "26875.0\n"
     ]
    }
   ],
   "source": [
    "class emp:\n",
    "    def emp1(self,salary,holiday):\n",
    "        if holiday>10:\n",
    "            ded = salary-(salary*5)/100\n",
    "            print(ded)\n",
    "        elif holiday<5:\n",
    "            inc=salary+(salary*7.5)/100\n",
    "            print(inc)\n",
    "        elif holiday==5:\n",
    "            print(salary)\n",
    "        else:\n",
    "            print('No incentive')\n",
    "            \n",
    "e=emp()\n",
    "e.emp1(25000,3)"
   ]
  },
  {
   "cell_type": "code",
   "execution_count": 22,
   "id": "a11a83e8",
   "metadata": {},
   "outputs": [
    {
     "name": "stdout",
     "output_type": "stream",
     "text": [
      "21500.0\n"
     ]
    }
   ],
   "source": [
    "class emp:\n",
    "    def func(self ,salary,holiday):\n",
    "        if holiday>10:\n",
    "            ded = salary - (salary*5)/100\n",
    "            return ded\n",
    "        elif holiday<5:\n",
    "            inc = salary + (salary*7.5)/100\n",
    "            print(inc)\n",
    "        elif holiday == 5:\n",
    "            print(salary)\n",
    "        else:\n",
    "            print(\"Less holidays\")\n",
    "\n",
    "e = emp()\n",
    "e.func(20000,1)"
   ]
  },
  {
   "cell_type": "code",
   "execution_count": null,
   "id": "e1f966b9",
   "metadata": {},
   "outputs": [],
   "source": []
  }
 ],
 "metadata": {
  "kernelspec": {
   "display_name": "Python 3 (ipykernel)",
   "language": "python",
   "name": "python3"
  },
  "language_info": {
   "codemirror_mode": {
    "name": "ipython",
    "version": 3
   },
   "file_extension": ".py",
   "mimetype": "text/x-python",
   "name": "python",
   "nbconvert_exporter": "python",
   "pygments_lexer": "ipython3",
   "version": "3.9.7"
  }
 },
 "nbformat": 4,
 "nbformat_minor": 5
}
