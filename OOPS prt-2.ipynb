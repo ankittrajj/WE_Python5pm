{
 "cells": [
  {
   "cell_type": "code",
   "execution_count": 5,
   "id": "f8bd4546",
   "metadata": {},
   "outputs": [
    {
     "data": {
      "text/plain": [
       "'A'"
      ]
     },
     "execution_count": 5,
     "metadata": {},
     "output_type": "execute_result"
    }
   ],
   "source": [
    "# class\n",
    "# object\n",
    "# function\n",
    "# self\n",
    "\n",
    "\n",
    "# constructor----->  default values....!!\n",
    "\n",
    "class emp:\n",
    "    def __init__(self,name,age,salary):\n",
    "        self.name = name\n",
    "        self.age = age\n",
    "        self.salary = salary\n",
    "#         print(name,age,salary)\n",
    "        \n",
    "e = emp(\"A\",23,200000)\n",
    "e.name\n",
    "        "
   ]
  },
  {
   "cell_type": "code",
   "execution_count": 6,
   "id": "9aa88625",
   "metadata": {},
   "outputs": [
    {
     "data": {
      "text/plain": [
       "200000"
      ]
     },
     "execution_count": 6,
     "metadata": {},
     "output_type": "execute_result"
    }
   ],
   "source": [
    "e.salary"
   ]
  },
  {
   "cell_type": "code",
   "execution_count": 7,
   "id": "bad06111",
   "metadata": {},
   "outputs": [],
   "source": [
    "#wap to calculate the total marks of a student who score 32 in physics\n",
    "# 56 in chemistry and 78 in maths but also fail in bio.\n",
    "# and also try to calculate the percentage ??\n",
    "\n",
    "\n",
    "class student:\n",
    "    def __init__(self,p,c,m,b):\n",
    "        self.p=p\n",
    "        self.c=c\n",
    "        self.m=m\n",
    "        self.b=b\n",
    "        \n",
    "    def t_marks(self,p,c,m,b):\n",
    "        total_marks = p+c+m+b\n",
    "        return total_marks\n",
    "    \n",
    "    def per(self,total_marks):\n",
    "        percentage = (total_marks/400)*100\n",
    "        return percentage\n",
    "\n",
    "s = student(32,56,78,30)\n",
    "        \n",
    "        "
   ]
  },
  {
   "cell_type": "code",
   "execution_count": 8,
   "id": "486b1999",
   "metadata": {},
   "outputs": [
    {
     "data": {
      "text/plain": [
       "196"
      ]
     },
     "execution_count": 8,
     "metadata": {},
     "output_type": "execute_result"
    }
   ],
   "source": [
    "s.t_marks(32,56,78,30)"
   ]
  },
  {
   "cell_type": "code",
   "execution_count": 9,
   "id": "18f4caa0",
   "metadata": {},
   "outputs": [
    {
     "data": {
      "text/plain": [
       "49.0"
      ]
     },
     "execution_count": 9,
     "metadata": {},
     "output_type": "execute_result"
    }
   ],
   "source": [
    "s.per(196)"
   ]
  },
  {
   "cell_type": "code",
   "execution_count": 24,
   "id": "20c109d6",
   "metadata": {},
   "outputs": [],
   "source": [
    "class student:\n",
    "    def __init__(self,p,c,m,b):\n",
    "        self.p=p\n",
    "        self.c=c\n",
    "        self.m=m\n",
    "        self.b=b\n",
    "#         self.total_marks = total_marks\n",
    "        \n",
    "    def t_marks(self):\n",
    "        tm = self.p+self.c+self.m+self.b\n",
    "        return tm\n",
    "    \n",
    "    def per(self):\n",
    "        total_marks = self.p+self.c+self.m+self.b\n",
    "        per = (total_marks/400)*100\n",
    "        return per\n",
    "\n",
    "s = student(32,56,78,30)"
   ]
  },
  {
   "cell_type": "code",
   "execution_count": 25,
   "id": "9b512a4d",
   "metadata": {},
   "outputs": [
    {
     "data": {
      "text/plain": [
       "196"
      ]
     },
     "execution_count": 25,
     "metadata": {},
     "output_type": "execute_result"
    }
   ],
   "source": [
    "s.t_marks()"
   ]
  },
  {
   "cell_type": "code",
   "execution_count": 26,
   "id": "6836ef86",
   "metadata": {},
   "outputs": [
    {
     "data": {
      "text/plain": [
       "49.0"
      ]
     },
     "execution_count": 26,
     "metadata": {},
     "output_type": "execute_result"
    }
   ],
   "source": [
    "s.per()"
   ]
  },
  {
   "cell_type": "code",
   "execution_count": 27,
   "id": "49b7e3b1",
   "metadata": {},
   "outputs": [
    {
     "data": {
      "text/plain": [
       "49.0"
      ]
     },
     "execution_count": 27,
     "metadata": {},
     "output_type": "execute_result"
    }
   ],
   "source": [
    "(196/400)*100"
   ]
  },
  {
   "cell_type": "code",
   "execution_count": 28,
   "id": "30b0c114",
   "metadata": {},
   "outputs": [],
   "source": [
    "class student:\n",
    "    def __init__(self,p,c,m,b):\n",
    "        self.p=p\n",
    "        self.c=c\n",
    "        self.m=m\n",
    "        self.b=b\n",
    "#         self.total_marks = total_marks\n",
    "        \n",
    "    def t_marks(self):\n",
    "        tm = self.p+self.c+self.m+self.b\n",
    "        print(tm)\n",
    "        total_marks = self.p+self.c+self.m+self.b\n",
    "        per = (total_marks/400)*100\n",
    "        return per\n",
    "\n",
    "s = student(32,56,78,30)"
   ]
  },
  {
   "cell_type": "code",
   "execution_count": 29,
   "id": "c33d48a8",
   "metadata": {},
   "outputs": [
    {
     "name": "stdout",
     "output_type": "stream",
     "text": [
      "196\n"
     ]
    },
    {
     "data": {
      "text/plain": [
       "49.0"
      ]
     },
     "execution_count": 29,
     "metadata": {},
     "output_type": "execute_result"
    }
   ],
   "source": [
    "s.t_marks()"
   ]
  },
  {
   "cell_type": "markdown",
   "id": "66489b43",
   "metadata": {},
   "source": [
    "# Inheritance"
   ]
  },
  {
   "cell_type": "code",
   "execution_count": 30,
   "id": "8f77b6cd",
   "metadata": {},
   "outputs": [],
   "source": [
    "class parent:\n",
    "    def __init__(self,name,age):\n",
    "        self.name = name\n",
    "        self.age = age\n",
    "    \n",
    "\n",
    "class child(parent):\n",
    "    def __init__(self,name,age,addr):\n",
    "        parent.__init__(self,name,age)\n",
    "        self.addr = addr\n",
    "        \n",
    "        \n",
    "c = child(\"A\",23,'Noida')"
   ]
  },
  {
   "cell_type": "code",
   "execution_count": 31,
   "id": "c8d0ae2f",
   "metadata": {},
   "outputs": [
    {
     "data": {
      "text/plain": [
       "'A'"
      ]
     },
     "execution_count": 31,
     "metadata": {},
     "output_type": "execute_result"
    }
   ],
   "source": [
    "c.name"
   ]
  },
  {
   "cell_type": "code",
   "execution_count": 32,
   "id": "b04dfa9d",
   "metadata": {},
   "outputs": [
    {
     "data": {
      "text/plain": [
       "23"
      ]
     },
     "execution_count": 32,
     "metadata": {},
     "output_type": "execute_result"
    }
   ],
   "source": [
    "c.age"
   ]
  },
  {
   "cell_type": "code",
   "execution_count": 40,
   "id": "704fd108",
   "metadata": {},
   "outputs": [
    {
     "ename": "AttributeError",
     "evalue": "'car2' object has no attribute 'dist'",
     "output_type": "error",
     "traceback": [
      "\u001b[1;31m---------------------------------------------------------------------------\u001b[0m",
      "\u001b[1;31mAttributeError\u001b[0m                            Traceback (most recent call last)",
      "\u001b[1;32m~\\AppData\\Local\\Temp/ipykernel_8748/2916342825.py\u001b[0m in \u001b[0;36m<module>\u001b[1;34m\u001b[0m\n\u001b[0;32m     16\u001b[0m \u001b[1;33m\u001b[0m\u001b[0m\n\u001b[0;32m     17\u001b[0m \u001b[0md\u001b[0m\u001b[1;33m=\u001b[0m\u001b[0mcar2\u001b[0m\u001b[1;33m(\u001b[0m\u001b[1;36m5\u001b[0m\u001b[1;33m,\u001b[0m\u001b[1;36m20\u001b[0m\u001b[1;33m)\u001b[0m\u001b[1;33m\u001b[0m\u001b[1;33m\u001b[0m\u001b[0m\n\u001b[1;32m---> 18\u001b[1;33m \u001b[0md\u001b[0m\u001b[1;33m.\u001b[0m\u001b[0mspeed1\u001b[0m\u001b[1;33m(\u001b[0m\u001b[1;33m)\u001b[0m\u001b[1;33m\u001b[0m\u001b[1;33m\u001b[0m\u001b[0m\n\u001b[0m",
      "\u001b[1;32m~\\AppData\\Local\\Temp/ipykernel_8748/2916342825.py\u001b[0m in \u001b[0;36mspeed1\u001b[1;34m(self)\u001b[0m\n\u001b[0;32m     12\u001b[0m         \u001b[0mparent\u001b[0m\u001b[1;33m.\u001b[0m\u001b[0m__init__\u001b[0m\u001b[1;33m(\u001b[0m\u001b[0mself\u001b[0m\u001b[1;33m,\u001b[0m\u001b[0mdist\u001b[0m\u001b[1;33m,\u001b[0m\u001b[0mtime\u001b[0m\u001b[1;33m)\u001b[0m\u001b[1;33m\u001b[0m\u001b[1;33m\u001b[0m\u001b[0m\n\u001b[0;32m     13\u001b[0m     \u001b[1;32mdef\u001b[0m \u001b[0mspeed1\u001b[0m\u001b[1;33m(\u001b[0m\u001b[0mself\u001b[0m\u001b[1;33m)\u001b[0m\u001b[1;33m:\u001b[0m\u001b[1;33m\u001b[0m\u001b[1;33m\u001b[0m\u001b[0m\n\u001b[1;32m---> 14\u001b[1;33m         \u001b[0mspeed\u001b[0m\u001b[1;33m=\u001b[0m\u001b[0mself\u001b[0m\u001b[1;33m.\u001b[0m\u001b[0mdist\u001b[0m\u001b[1;33m/\u001b[0m\u001b[0mself\u001b[0m\u001b[1;33m.\u001b[0m\u001b[0mtime\u001b[0m\u001b[1;33m\u001b[0m\u001b[1;33m\u001b[0m\u001b[0m\n\u001b[0m\u001b[0;32m     15\u001b[0m         \u001b[1;32mreturn\u001b[0m \u001b[0mspeed1\u001b[0m\u001b[1;33m\u001b[0m\u001b[1;33m\u001b[0m\u001b[0m\n\u001b[0;32m     16\u001b[0m \u001b[1;33m\u001b[0m\u001b[0m\n",
      "\u001b[1;31mAttributeError\u001b[0m: 'car2' object has no attribute 'dist'"
     ]
    }
   ],
   "source": [
    "#wap to find the speed of a two car who cover the distance of 5km & \n",
    "# 7km in 20 min!!\n",
    "class car1:\n",
    "    def __init__(self,dist,time):\n",
    "        self.dist=dist\n",
    "        self.time=time\n",
    "    def speed(self):\n",
    "        speed=self.dist/self.time\n",
    "        return speed\n",
    "class car2(car1):\n",
    "    def __init__(self,dist,time):\n",
    "        parent.__init__(self,dist,time)\n",
    "    def speed1(self):\n",
    "        speed=self.dist/self.time\n",
    "        return speed1\n",
    "    \n",
    "d=car2(5,20)\n",
    "d.speed1()\n"
   ]
  },
  {
   "cell_type": "code",
   "execution_count": 42,
   "id": "24aa5d45",
   "metadata": {},
   "outputs": [
    {
     "name": "stdout",
     "output_type": "stream",
     "text": [
      "0.3333333333333333\n"
     ]
    }
   ],
   "source": [
    "class car1:\n",
    "    def __init__(self,dis,time):\n",
    "        self.dis=dis\n",
    "        self.time=time\n",
    "    \n",
    "class car2(car1):\n",
    "    def __init__(self,dis,time):\n",
    "        car1.__init__(self,dis,time)\n",
    "        \n",
    "        speed = dis/time\n",
    "        print(speed)\n",
    "        \n",
    "c = car2(20,60)"
   ]
  },
  {
   "cell_type": "code",
   "execution_count": 43,
   "id": "8ae2de4e",
   "metadata": {},
   "outputs": [
    {
     "name": "stdout",
     "output_type": "stream",
     "text": [
      "0.3333333333333333\n"
     ]
    }
   ],
   "source": [
    "class car1:\n",
    "    def __init__(self,dis,time):\n",
    "        self.dis=dis\n",
    "        self.time=time\n",
    "    \n",
    "class car2(car1):\n",
    "    def __init__(self,dis,time):\n",
    "        super().__init__(dis,time)\n",
    "        \n",
    "        speed = dis/time\n",
    "        print(speed)\n",
    "        \n",
    "c = car2(20,60)"
   ]
  },
  {
   "cell_type": "code",
   "execution_count": 47,
   "id": "0a28bd3f",
   "metadata": {},
   "outputs": [],
   "source": [
    "class car1:\n",
    "    def __init__(self,dis,time):\n",
    "        self.dis=dis\n",
    "        self.time=time\n",
    "    \n",
    "class car2(car1):\n",
    "    def __init__(self,dis,time):\n",
    "        super().__init__(dis,time)\n",
    "        \n",
    "    def speed(self):\n",
    "        s = self.dis/self.time\n",
    "        return s\n",
    "        \n",
    "        \n",
    "        \n",
    "c = car2(20,60)"
   ]
  },
  {
   "cell_type": "code",
   "execution_count": 48,
   "id": "fec5fae7",
   "metadata": {},
   "outputs": [
    {
     "data": {
      "text/plain": [
       "0.3333333333333333"
      ]
     },
     "execution_count": 48,
     "metadata": {},
     "output_type": "execute_result"
    }
   ],
   "source": [
    "c.speed()"
   ]
  },
  {
   "cell_type": "code",
   "execution_count": null,
   "id": "45d7d7f1",
   "metadata": {},
   "outputs": [],
   "source": []
  }
 ],
 "metadata": {
  "kernelspec": {
   "display_name": "Python 3 (ipykernel)",
   "language": "python",
   "name": "python3"
  },
  "language_info": {
   "codemirror_mode": {
    "name": "ipython",
    "version": 3
   },
   "file_extension": ".py",
   "mimetype": "text/x-python",
   "name": "python",
   "nbconvert_exporter": "python",
   "pygments_lexer": "ipython3",
   "version": "3.9.7"
  }
 },
 "nbformat": 4,
 "nbformat_minor": 5
}
