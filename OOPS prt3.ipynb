{
 "cells": [
  {
   "cell_type": "code",
   "execution_count": 2,
   "id": "287d3042",
   "metadata": {},
   "outputs": [
    {
     "name": "stdout",
     "output_type": "stream",
     "text": [
      "X\n",
      "34\n"
     ]
    }
   ],
   "source": [
    "# constructor----->\n",
    "# inheritance\n",
    "\n",
    "class student:\n",
    "    def info(self,name,age):\n",
    "        print(name)\n",
    "        print(age)\n",
    "        \n",
    "s = student()\n",
    "s.info(\"X\",34)"
   ]
  },
  {
   "cell_type": "code",
   "execution_count": 3,
   "id": "76ebe36c",
   "metadata": {},
   "outputs": [],
   "source": [
    "class student:\n",
    "    def __init__(self,name,age):\n",
    "        self.name = name\n",
    "        self.age = age\n",
    "        \n",
    "s = student(\"ABCD\",45)"
   ]
  },
  {
   "cell_type": "code",
   "execution_count": 4,
   "id": "155a2535",
   "metadata": {},
   "outputs": [
    {
     "data": {
      "text/plain": [
       "'ABCD'"
      ]
     },
     "execution_count": 4,
     "metadata": {},
     "output_type": "execute_result"
    }
   ],
   "source": [
    "s.name"
   ]
  },
  {
   "cell_type": "code",
   "execution_count": 5,
   "id": "7571ca33",
   "metadata": {},
   "outputs": [
    {
     "data": {
      "text/plain": [
       "45"
      ]
     },
     "execution_count": 5,
     "metadata": {},
     "output_type": "execute_result"
    }
   ],
   "source": [
    "s.age"
   ]
  },
  {
   "cell_type": "code",
   "execution_count": 20,
   "id": "d2e6e95a",
   "metadata": {},
   "outputs": [],
   "source": [
    "class parent:\n",
    "    def __init__(self,name,age,sal):\n",
    "        self.name = name\n",
    "        self.age = age\n",
    "        self.sal = sal\n",
    "    \n",
    "class child(parent):\n",
    "    def __init__(self,name,age,sal):\n",
    "        parent.__init__(self,name,age,sal)\n",
    "        \n",
    "        \n",
    "ram = parent(\"X\",34,40000)\n",
    "shyam = child(\"shyam\",34,400)\n",
    "deepak = child(\"Deepak\",23,21000)\n"
   ]
  },
  {
   "cell_type": "code",
   "execution_count": 19,
   "id": "137be3c4",
   "metadata": {},
   "outputs": [
    {
     "data": {
      "text/plain": [
       "40000"
      ]
     },
     "execution_count": 19,
     "metadata": {},
     "output_type": "execute_result"
    }
   ],
   "source": [
    "ram.sal"
   ]
  },
  {
   "cell_type": "code",
   "execution_count": 16,
   "id": "5c56e609",
   "metadata": {},
   "outputs": [
    {
     "data": {
      "text/plain": [
       "21000"
      ]
     },
     "execution_count": 16,
     "metadata": {},
     "output_type": "execute_result"
    }
   ],
   "source": [
    "deepak.sal"
   ]
  },
  {
   "cell_type": "code",
   "execution_count": 17,
   "id": "e0c1c436",
   "metadata": {},
   "outputs": [
    {
     "data": {
      "text/plain": [
       "23"
      ]
     },
     "execution_count": 17,
     "metadata": {},
     "output_type": "execute_result"
    }
   ],
   "source": [
    "deepak.age"
   ]
  },
  {
   "cell_type": "code",
   "execution_count": 23,
   "id": "91fa1e69",
   "metadata": {},
   "outputs": [],
   "source": [
    "class parent(child):\n",
    "    def __init__(self,name,age,sal):\n",
    "        child.__init__(self,name,age,sal)\n",
    "    \n",
    "class child():\n",
    "    def __init__(self,name,age,sal):\n",
    "        self.name = name\n",
    "        self.age = age\n",
    "        self.sal = sal\n",
    "\n",
    "ram = child(\"X\",34,40000)\n",
    "shyam = child(\"shyam\",34,400)\n",
    "deepak = child(\"Deepak\",23,21000)"
   ]
  },
  {
   "cell_type": "code",
   "execution_count": 24,
   "id": "9330f9f3",
   "metadata": {},
   "outputs": [
    {
     "data": {
      "text/plain": [
       "34"
      ]
     },
     "execution_count": 24,
     "metadata": {},
     "output_type": "execute_result"
    }
   ],
   "source": [
    "ram.age"
   ]
  },
  {
   "cell_type": "code",
   "execution_count": 26,
   "id": "3d8a2ff2",
   "metadata": {},
   "outputs": [],
   "source": [
    "# inheritance between gpc & pc\n",
    "\n",
    "class gpc:\n",
    "    def __init__(self,name):\n",
    "        self.name = name\n",
    "        \n",
    "class parent(gpc):\n",
    "    def __init__(self,name,age):\n",
    "        super().__init__(name)\n",
    "        self.age = age\n",
    "    \n",
    "class child:\n",
    "    def __init__(self,marks):\n",
    "        self.marks = marks\n",
    "        \n",
    "        \n",
    "p = parent(\"parent\",34)"
   ]
  },
  {
   "cell_type": "code",
   "execution_count": 27,
   "id": "f1565d43",
   "metadata": {},
   "outputs": [
    {
     "data": {
      "text/plain": [
       "'parent'"
      ]
     },
     "execution_count": 27,
     "metadata": {},
     "output_type": "execute_result"
    }
   ],
   "source": [
    "p.name"
   ]
  },
  {
   "cell_type": "code",
   "execution_count": 28,
   "id": "1ac6c4a3",
   "metadata": {},
   "outputs": [
    {
     "data": {
      "text/plain": [
       "34"
      ]
     },
     "execution_count": 28,
     "metadata": {},
     "output_type": "execute_result"
    }
   ],
   "source": [
    "p.age"
   ]
  },
  {
   "cell_type": "code",
   "execution_count": 29,
   "id": "2ca483ec",
   "metadata": {},
   "outputs": [],
   "source": [
    "# inherit between parent & child\n",
    "class gpc:\n",
    "    def __init__(self,name):\n",
    "        self.name = name\n",
    "        \n",
    "class parent:\n",
    "    def __init__(self,age):\n",
    "        self.age = age\n",
    "    \n",
    "class child(parent):\n",
    "    def __init__(self,age,marks):\n",
    "        super().__init__(age)\n",
    "        self.marks = marks\n",
    "        \n",
    "        \n",
    "p = child(34,89)"
   ]
  },
  {
   "cell_type": "code",
   "execution_count": 30,
   "id": "29618e6f",
   "metadata": {},
   "outputs": [
    {
     "ename": "AttributeError",
     "evalue": "'child' object has no attribute 'name'",
     "output_type": "error",
     "traceback": [
      "\u001b[1;31m---------------------------------------------------------------------------\u001b[0m",
      "\u001b[1;31mAttributeError\u001b[0m                            Traceback (most recent call last)",
      "\u001b[1;32m~\\AppData\\Local\\Temp/ipykernel_11368/1888443627.py\u001b[0m in \u001b[0;36m<module>\u001b[1;34m\u001b[0m\n\u001b[1;32m----> 1\u001b[1;33m \u001b[0mp\u001b[0m\u001b[1;33m.\u001b[0m\u001b[0mname\u001b[0m\u001b[1;33m\u001b[0m\u001b[1;33m\u001b[0m\u001b[0m\n\u001b[0m",
      "\u001b[1;31mAttributeError\u001b[0m: 'child' object has no attribute 'name'"
     ]
    }
   ],
   "source": [
    "p.name"
   ]
  },
  {
   "cell_type": "code",
   "execution_count": 31,
   "id": "49e8b343",
   "metadata": {},
   "outputs": [
    {
     "data": {
      "text/plain": [
       "34"
      ]
     },
     "execution_count": 31,
     "metadata": {},
     "output_type": "execute_result"
    }
   ],
   "source": [
    "p.age"
   ]
  },
  {
   "cell_type": "code",
   "execution_count": 32,
   "id": "8d699bad",
   "metadata": {},
   "outputs": [
    {
     "data": {
      "text/plain": [
       "89"
      ]
     },
     "execution_count": 32,
     "metadata": {},
     "output_type": "execute_result"
    }
   ],
   "source": [
    "p.marks"
   ]
  },
  {
   "cell_type": "code",
   "execution_count": 35,
   "id": "bfd639c8",
   "metadata": {},
   "outputs": [],
   "source": [
    "# inherit between gpc & child\n",
    "class gpc:\n",
    "    def __init__(self,name):\n",
    "        self.name = name\n",
    "        \n",
    "class parent(gpc):\n",
    "    def __init__(self,age):\n",
    "        self.age = age\n",
    "    \n",
    "class child(gpc):\n",
    "    def __init__(self,name,marks):\n",
    "        super().__init__(name)\n",
    "        self.marks = marks\n",
    "        \n",
    "        \n",
    "p = child(\"ram & shyam\",349)"
   ]
  },
  {
   "cell_type": "code",
   "execution_count": 36,
   "id": "507d287f",
   "metadata": {},
   "outputs": [
    {
     "data": {
      "text/plain": [
       "'ram & shyam'"
      ]
     },
     "execution_count": 36,
     "metadata": {},
     "output_type": "execute_result"
    }
   ],
   "source": [
    "p.name"
   ]
  },
  {
   "cell_type": "code",
   "execution_count": 37,
   "id": "0213844c",
   "metadata": {},
   "outputs": [
    {
     "data": {
      "text/plain": [
       "349"
      ]
     },
     "execution_count": 37,
     "metadata": {},
     "output_type": "execute_result"
    }
   ],
   "source": [
    "p.marks"
   ]
  },
  {
   "cell_type": "code",
   "execution_count": 38,
   "id": "7560d90a",
   "metadata": {},
   "outputs": [],
   "source": [
    "# inherit b/t gpc to pc to cc\n",
    "class gpc:\n",
    "    def __init__(self,name):\n",
    "        self.name = name\n",
    "        \n",
    "class parent(gpc):\n",
    "    def __init__(self,name,age):\n",
    "        super().__init__(name)\n",
    "        self.age = age\n",
    "    \n",
    "class child(parent):\n",
    "    def __init__(self,name,age,marks):\n",
    "        super().__init__(name,age)\n",
    "        self.marks = marks\n",
    "        \n",
    "        \n",
    "c = child(\"Yash\",28,92)\n",
    "        \n",
    "        \n"
   ]
  },
  {
   "cell_type": "code",
   "execution_count": 39,
   "id": "879cfd1c",
   "metadata": {},
   "outputs": [
    {
     "data": {
      "text/plain": [
       "'Yash'"
      ]
     },
     "execution_count": 39,
     "metadata": {},
     "output_type": "execute_result"
    }
   ],
   "source": [
    "c.name"
   ]
  },
  {
   "cell_type": "code",
   "execution_count": 40,
   "id": "7b53ef34",
   "metadata": {},
   "outputs": [
    {
     "data": {
      "text/plain": [
       "28"
      ]
     },
     "execution_count": 40,
     "metadata": {},
     "output_type": "execute_result"
    }
   ],
   "source": [
    "c.age"
   ]
  },
  {
   "cell_type": "code",
   "execution_count": 41,
   "id": "9c7e6208",
   "metadata": {},
   "outputs": [
    {
     "data": {
      "text/plain": [
       "92"
      ]
     },
     "execution_count": 41,
     "metadata": {},
     "output_type": "execute_result"
    }
   ],
   "source": [
    "c.marks"
   ]
  },
  {
   "cell_type": "markdown",
   "id": "f6ddb176",
   "metadata": {},
   "source": [
    "# Encapsulation"
   ]
  },
  {
   "cell_type": "code",
   "execution_count": 43,
   "id": "b8796e4e",
   "metadata": {},
   "outputs": [
    {
     "data": {
      "text/plain": [
       "(1, 2)"
      ]
     },
     "execution_count": 43,
     "metadata": {},
     "output_type": "execute_result"
    }
   ],
   "source": [
    "# public code\n",
    "class a:\n",
    "    def fun(self,x,y):\n",
    "        return x,y\n",
    "    \n",
    "x = a()\n",
    "x.fun(1,2)"
   ]
  },
  {
   "cell_type": "code",
   "execution_count": 45,
   "id": "54c123c8",
   "metadata": {},
   "outputs": [
    {
     "ename": "AttributeError",
     "evalue": "'a' object has no attribute '__fun'",
     "output_type": "error",
     "traceback": [
      "\u001b[1;31m---------------------------------------------------------------------------\u001b[0m",
      "\u001b[1;31mAttributeError\u001b[0m                            Traceback (most recent call last)",
      "\u001b[1;32m~\\AppData\\Local\\Temp/ipykernel_11368/3593153267.py\u001b[0m in \u001b[0;36m<module>\u001b[1;34m\u001b[0m\n\u001b[0;32m      4\u001b[0m \u001b[1;33m\u001b[0m\u001b[0m\n\u001b[0;32m      5\u001b[0m \u001b[0mx\u001b[0m \u001b[1;33m=\u001b[0m \u001b[0ma\u001b[0m\u001b[1;33m(\u001b[0m\u001b[1;33m)\u001b[0m\u001b[1;33m\u001b[0m\u001b[1;33m\u001b[0m\u001b[0m\n\u001b[1;32m----> 6\u001b[1;33m \u001b[0mx\u001b[0m\u001b[1;33m.\u001b[0m\u001b[0m__fun\u001b[0m\u001b[1;33m(\u001b[0m\u001b[1;36m1\u001b[0m\u001b[1;33m,\u001b[0m\u001b[1;36m2\u001b[0m\u001b[1;33m)\u001b[0m\u001b[1;33m\u001b[0m\u001b[1;33m\u001b[0m\u001b[0m\n\u001b[0m",
      "\u001b[1;31mAttributeError\u001b[0m: 'a' object has no attribute '__fun'"
     ]
    }
   ],
   "source": [
    "# private mode\n",
    "class a:\n",
    "    def __fun(self,x,y):\n",
    "        return x,y\n",
    "    \n",
    "x = a()\n",
    "x.__fun(1,2)"
   ]
  },
  {
   "cell_type": "code",
   "execution_count": 47,
   "id": "f91b6036",
   "metadata": {},
   "outputs": [
    {
     "data": {
      "text/plain": [
       "(1, 2)"
      ]
     },
     "execution_count": 47,
     "metadata": {},
     "output_type": "execute_result"
    }
   ],
   "source": [
    "# protected mode\n",
    "class a:\n",
    "    def _fun(self,x,y):\n",
    "        return x,y\n",
    "    \n",
    "x = a()\n",
    "x._fun(1,2)"
   ]
  },
  {
   "cell_type": "code",
   "execution_count": 54,
   "id": "aa9c46cd",
   "metadata": {},
   "outputs": [],
   "source": [
    "#wap to make a & object class and try to make encapsulation for this.\n",
    "# also perform the above question with constructor.\n",
    "\n",
    "\n",
    "class x :\n",
    "    def __init__(self,__name):\n",
    "        self.__name = __name\n",
    "        \n",
    "        \n",
    "a = x(\"qwe\")"
   ]
  },
  {
   "cell_type": "code",
   "execution_count": 56,
   "id": "53f73530",
   "metadata": {},
   "outputs": [
    {
     "ename": "AttributeError",
     "evalue": "'x' object has no attribute '__name'",
     "output_type": "error",
     "traceback": [
      "\u001b[1;31m---------------------------------------------------------------------------\u001b[0m",
      "\u001b[1;31mAttributeError\u001b[0m                            Traceback (most recent call last)",
      "\u001b[1;32m~\\AppData\\Local\\Temp/ipykernel_11368/3562597080.py\u001b[0m in \u001b[0;36m<module>\u001b[1;34m\u001b[0m\n\u001b[1;32m----> 1\u001b[1;33m \u001b[0ma\u001b[0m\u001b[1;33m.\u001b[0m\u001b[0m__name\u001b[0m\u001b[1;33m\u001b[0m\u001b[1;33m\u001b[0m\u001b[0m\n\u001b[0m",
      "\u001b[1;31mAttributeError\u001b[0m: 'x' object has no attribute '__name'"
     ]
    }
   ],
   "source": [
    "a.__name"
   ]
  },
  {
   "cell_type": "code",
   "execution_count": 57,
   "id": "dff36149",
   "metadata": {},
   "outputs": [],
   "source": [
    "\n",
    "class x :\n",
    "    def __init__(self,_name):\n",
    "        self._name = _name\n",
    "        \n",
    "        \n",
    "a = x(\"qwe\")"
   ]
  },
  {
   "cell_type": "code",
   "execution_count": 59,
   "id": "a708ef33",
   "metadata": {},
   "outputs": [
    {
     "data": {
      "text/plain": [
       "'qwe'"
      ]
     },
     "execution_count": 59,
     "metadata": {},
     "output_type": "execute_result"
    }
   ],
   "source": [
    "a._name"
   ]
  },
  {
   "cell_type": "code",
   "execution_count": 62,
   "id": "a03d5c82",
   "metadata": {},
   "outputs": [
    {
     "data": {
      "text/plain": [
       "10"
      ]
     },
     "execution_count": 62,
     "metadata": {},
     "output_type": "execute_result"
    }
   ],
   "source": [
    "# var\n",
    "class a:\n",
    "    x = 10\n",
    "    \n",
    "    \n",
    "obj = a()\n",
    "obj.x"
   ]
  },
  {
   "cell_type": "code",
   "execution_count": 63,
   "id": "1ba3f739",
   "metadata": {},
   "outputs": [
    {
     "ename": "AttributeError",
     "evalue": "'a' object has no attribute '__x'",
     "output_type": "error",
     "traceback": [
      "\u001b[1;31m---------------------------------------------------------------------------\u001b[0m",
      "\u001b[1;31mAttributeError\u001b[0m                            Traceback (most recent call last)",
      "\u001b[1;32m~\\AppData\\Local\\Temp/ipykernel_11368/1267535291.py\u001b[0m in \u001b[0;36m<module>\u001b[1;34m\u001b[0m\n\u001b[0;32m      4\u001b[0m \u001b[1;33m\u001b[0m\u001b[0m\n\u001b[0;32m      5\u001b[0m \u001b[0mobj\u001b[0m \u001b[1;33m=\u001b[0m \u001b[0ma\u001b[0m\u001b[1;33m(\u001b[0m\u001b[1;33m)\u001b[0m\u001b[1;33m\u001b[0m\u001b[1;33m\u001b[0m\u001b[0m\n\u001b[1;32m----> 6\u001b[1;33m \u001b[0mobj\u001b[0m\u001b[1;33m.\u001b[0m\u001b[0m__x\u001b[0m\u001b[1;33m\u001b[0m\u001b[1;33m\u001b[0m\u001b[0m\n\u001b[0m",
      "\u001b[1;31mAttributeError\u001b[0m: 'a' object has no attribute '__x'"
     ]
    }
   ],
   "source": [
    "class a:\n",
    "    __x = 10\n",
    "    \n",
    "    \n",
    "obj = a()\n",
    "obj.__x"
   ]
  },
  {
   "cell_type": "code",
   "execution_count": 66,
   "id": "78778b76",
   "metadata": {},
   "outputs": [
    {
     "data": {
      "text/plain": [
       "10"
      ]
     },
     "execution_count": 66,
     "metadata": {},
     "output_type": "execute_result"
    }
   ],
   "source": [
    "class a:\n",
    "    _x = 10\n",
    "    \n",
    "    \n",
    "obj = a()\n",
    "obj._x"
   ]
  },
  {
   "cell_type": "code",
   "execution_count": null,
   "id": "58da98aa",
   "metadata": {},
   "outputs": [],
   "source": [
    "#wap to calculate the price of 2 phones \n",
    "# 1st phone price is 20k with a tax of 2%\n",
    "# 2nd phone's price is 34k with a discount of 12%.\n",
    "# also tru to inherit the properties of 1st to 2nd phone!!"
   ]
  }
 ],
 "metadata": {
  "kernelspec": {
   "display_name": "Python 3 (ipykernel)",
   "language": "python",
   "name": "python3"
  },
  "language_info": {
   "codemirror_mode": {
    "name": "ipython",
    "version": 3
   },
   "file_extension": ".py",
   "mimetype": "text/x-python",
   "name": "python",
   "nbconvert_exporter": "python",
   "pygments_lexer": "ipython3",
   "version": "3.9.7"
  }
 },
 "nbformat": 4,
 "nbformat_minor": 5
}
