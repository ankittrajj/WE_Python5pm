{
 "cells": [
  {
   "cell_type": "code",
   "execution_count": 6,
   "id": "48e8b399",
   "metadata": {},
   "outputs": [
    {
     "name": "stdout",
     "output_type": "stream",
     "text": [
      "Enter the number34\n",
      "Even Number\n"
     ]
    }
   ],
   "source": [
    "# Wap to find odd even number.\n",
    "# wap to find prime number.\n",
    "\n",
    "\n",
    "# 1.\n",
    "num = int(input(\"Enter the number\"))\n",
    "if num % 2 == 0:\n",
    "    print(\"Even Number\")\n",
    "else:\n",
    "    print(\"Odd number\")"
   ]
  },
  {
   "cell_type": "code",
   "execution_count": 8,
   "id": "6d6450f5",
   "metadata": {},
   "outputs": [
    {
     "name": "stdout",
     "output_type": "stream",
     "text": [
      "Enter the number93\n",
      "Odd Number\n"
     ]
    }
   ],
   "source": [
    "# 2.\n",
    "num = int(input(\"Enter the number\"))\n",
    "if num % 2 != 0:\n",
    "    print(\"Odd Number\")\n",
    "else:\n",
    "    print(\"Even number\")"
   ]
  },
  {
   "cell_type": "code",
   "execution_count": 10,
   "id": "b783012b",
   "metadata": {},
   "outputs": [
    {
     "name": "stdout",
     "output_type": "stream",
     "text": [
      "Not prime number 24\n"
     ]
    }
   ],
   "source": [
    "num = 24\n",
    "if num>1:\n",
    "    for i in range(2,13):\n",
    "        if num%i == 0:\n",
    "            print(\"Not prime number\",num)\n",
    "            \n",
    "            break\n",
    "        else:\n",
    "            print(\"Prime Number\",num)\n",
    "else:\n",
    "    print(\"Not a prime number\",num)"
   ]
  },
  {
   "cell_type": "code",
   "execution_count": 11,
   "id": "494ccb85",
   "metadata": {},
   "outputs": [],
   "source": [
    "#wap to make a list .\n",
    "#wap to slice a data from a list\n",
    "#wap to slice data from index 3 to 5."
   ]
  },
  {
   "cell_type": "markdown",
   "id": "b3b3a546",
   "metadata": {},
   "source": [
    "# while loop"
   ]
  },
  {
   "cell_type": "code",
   "execution_count": 16,
   "id": "79e33404",
   "metadata": {},
   "outputs": [
    {
     "name": "stdout",
     "output_type": "stream",
     "text": [
      "1\n",
      "2\n",
      "3\n",
      "4\n",
      "5\n",
      "6\n",
      "7\n",
      "8\n",
      "9\n",
      "10\n",
      "11\n",
      "12\n",
      "13\n",
      "14\n",
      "15\n",
      "16\n",
      "17\n",
      "18\n",
      "19\n",
      "20\n"
     ]
    }
   ],
   "source": [
    "# 1. initialization\n",
    "# 2. condition\n",
    "# 3. increment/ decrement\n",
    "\n",
    "\n",
    "# wap to print from 1-10\n",
    "\n",
    "x = 1\n",
    "while x<=20:\n",
    "    print(x)\n",
    "    x = x+1\n",
    "#     x+=1\n",
    "#     x++"
   ]
  },
  {
   "cell_type": "code",
   "execution_count": 17,
   "id": "039561ae",
   "metadata": {},
   "outputs": [],
   "source": [
    "# wap to make a list.\n",
    "\n",
    "x = [1,2,3,'hello bhai',34.4,56.3,True]"
   ]
  },
  {
   "cell_type": "code",
   "execution_count": 18,
   "id": "3b77eed6",
   "metadata": {},
   "outputs": [
    {
     "data": {
      "text/plain": [
       "[1, 2, 3, 'hello bhai', 34.4, 56.3, True]"
      ]
     },
     "execution_count": 18,
     "metadata": {},
     "output_type": "execute_result"
    }
   ],
   "source": [
    "x"
   ]
  },
  {
   "cell_type": "code",
   "execution_count": 19,
   "id": "c7db159b",
   "metadata": {},
   "outputs": [
    {
     "data": {
      "text/plain": [
       "list"
      ]
     },
     "execution_count": 19,
     "metadata": {},
     "output_type": "execute_result"
    }
   ],
   "source": [
    "type(x)"
   ]
  },
  {
   "cell_type": "code",
   "execution_count": 20,
   "id": "45e8966f",
   "metadata": {},
   "outputs": [
    {
     "data": {
      "text/plain": [
       "[1, 2, 3, 'hello bhai', 34.4, 56.3, True]"
      ]
     },
     "execution_count": 20,
     "metadata": {},
     "output_type": "execute_result"
    }
   ],
   "source": [
    "x"
   ]
  },
  {
   "cell_type": "code",
   "execution_count": 21,
   "id": "32e32859",
   "metadata": {},
   "outputs": [
    {
     "data": {
      "text/plain": [
       "True"
      ]
     },
     "execution_count": 21,
     "metadata": {},
     "output_type": "execute_result"
    }
   ],
   "source": [
    "x[6]"
   ]
  },
  {
   "cell_type": "code",
   "execution_count": 22,
   "id": "105b334b",
   "metadata": {},
   "outputs": [
    {
     "data": {
      "text/plain": [
       "True"
      ]
     },
     "execution_count": 22,
     "metadata": {},
     "output_type": "execute_result"
    }
   ],
   "source": [
    "x[-1]"
   ]
  },
  {
   "cell_type": "code",
   "execution_count": 23,
   "id": "3307a2b5",
   "metadata": {},
   "outputs": [
    {
     "data": {
      "text/plain": [
       "[1, 2, 3, 'hello bhai', 34.4, 56.3, True]"
      ]
     },
     "execution_count": 23,
     "metadata": {},
     "output_type": "execute_result"
    }
   ],
   "source": [
    "x"
   ]
  },
  {
   "cell_type": "code",
   "execution_count": 25,
   "id": "6f2c2867",
   "metadata": {},
   "outputs": [
    {
     "data": {
      "text/plain": [
       "['hello bhai', 34.4, 56.3]"
      ]
     },
     "execution_count": 25,
     "metadata": {},
     "output_type": "execute_result"
    }
   ],
   "source": [
    "x[3:6]"
   ]
  },
  {
   "cell_type": "code",
   "execution_count": 28,
   "id": "60f4c78b",
   "metadata": {},
   "outputs": [
    {
     "data": {
      "text/plain": [
       "list"
      ]
     },
     "execution_count": 28,
     "metadata": {},
     "output_type": "execute_result"
    }
   ],
   "source": [
    "type(x)"
   ]
  },
  {
   "cell_type": "code",
   "execution_count": 26,
   "id": "cfce24ce",
   "metadata": {},
   "outputs": [
    {
     "name": "stdout",
     "output_type": "stream",
     "text": [
      "45\n",
      "56\n",
      "89\n",
      "44\n"
     ]
    }
   ],
   "source": [
    "a = [45,56,89,44]\n",
    "for i in a:\n",
    "    print(i)"
   ]
  },
  {
   "cell_type": "code",
   "execution_count": 27,
   "id": "f08fd155",
   "metadata": {},
   "outputs": [
    {
     "data": {
      "text/plain": [
       "int"
      ]
     },
     "execution_count": 27,
     "metadata": {},
     "output_type": "execute_result"
    }
   ],
   "source": [
    "type(i)"
   ]
  },
  {
   "cell_type": "code",
   "execution_count": 32,
   "id": "834ec1ee",
   "metadata": {},
   "outputs": [],
   "source": [
    "#wap to convert a string into list.\n",
    "x = 'Divya'\n",
    "y = list(x)\n",
    "# type(x)\n"
   ]
  },
  {
   "cell_type": "code",
   "execution_count": 33,
   "id": "957e6be8",
   "metadata": {},
   "outputs": [
    {
     "data": {
      "text/plain": [
       "list"
      ]
     },
     "execution_count": 33,
     "metadata": {},
     "output_type": "execute_result"
    }
   ],
   "source": [
    "type(y)"
   ]
  },
  {
   "cell_type": "code",
   "execution_count": 34,
   "id": "5cf16fbf",
   "metadata": {},
   "outputs": [
    {
     "name": "stdout",
     "output_type": "stream",
     "text": [
      "Enter string to convert to listhello\n",
      "['h', 'e', 'l', 'l', 'o']\n"
     ]
    }
   ],
   "source": [
    "#wap to and check a string is palindrome or not.\n",
    "\n",
    "a=input('Enter string to convert to list')\n",
    "l=list(a)\n",
    "print(l)"
   ]
  },
  {
   "cell_type": "code",
   "execution_count": 35,
   "id": "5826ce53",
   "metadata": {},
   "outputs": [
    {
     "data": {
      "text/plain": [
       "list"
      ]
     },
     "execution_count": 35,
     "metadata": {},
     "output_type": "execute_result"
    }
   ],
   "source": [
    "type(l)"
   ]
  },
  {
   "cell_type": "code",
   "execution_count": 37,
   "id": "761caadf",
   "metadata": {},
   "outputs": [
    {
     "name": "stdout",
     "output_type": "stream",
     "text": [
      "Palindrome\n"
     ]
    }
   ],
   "source": [
    "x = 'mam'\n",
    "y = list(x)\n",
    "if y[::] == y[::-1]:\n",
    "    print(\"Palindrome\")\n",
    "else:\n",
    "    print(\"No palindrome\")"
   ]
  },
  {
   "cell_type": "code",
   "execution_count": 43,
   "id": "988997af",
   "metadata": {},
   "outputs": [
    {
     "name": "stdout",
     "output_type": "stream",
     "text": [
      "palindrome\n"
     ]
    }
   ],
   "source": [
    "x = 'nitin'\n",
    "y = ''\n",
    "for i in x:\n",
    "    y = i+y\n",
    "if x==y:\n",
    "    print('palindrome')\n",
    "else:\n",
    "    print(\"not palindrome\")"
   ]
  },
  {
   "cell_type": "code",
   "execution_count": 47,
   "id": "65c2d6c1",
   "metadata": {},
   "outputs": [
    {
     "name": "stdout",
     "output_type": "stream",
     "text": [
      "not palindrome\n"
     ]
    }
   ],
   "source": [
    "x='mams'\n",
    "y=x[::-1]\n",
    "if x==y:\n",
    "    print('Palindrome')\n",
    "else:\n",
    "    print('not palindrome')"
   ]
  },
  {
   "cell_type": "code",
   "execution_count": 58,
   "id": "a8b5c2c8",
   "metadata": {},
   "outputs": [
    {
     "name": "stdout",
     "output_type": "stream",
     "text": [
      "p\n"
     ]
    }
   ],
   "source": [
    "x = 'nitin'\n",
    "y = ''\n",
    "for i in x:\n",
    "    y = i+y\n",
    "#     print(i)\n",
    "\n",
    "#     print(y)\n",
    "\n",
    "if x == y:\n",
    "    print(\"p\")\n",
    "else:\n",
    "    print('NP')"
   ]
  },
  {
   "cell_type": "code",
   "execution_count": null,
   "id": "04da3572",
   "metadata": {},
   "outputs": [],
   "source": [
    "# wap to find fibonacci series upto 10 terms??\n",
    "# list method/function\n",
    "# reverse\n",
    "# insert\n",
    "# pop\n",
    "# append \n",
    "# count\n",
    "# extend"
   ]
  }
 ],
 "metadata": {
  "kernelspec": {
   "display_name": "Python 3 (ipykernel)",
   "language": "python",
   "name": "python3"
  },
  "language_info": {
   "codemirror_mode": {
    "name": "ipython",
    "version": 3
   },
   "file_extension": ".py",
   "mimetype": "text/x-python",
   "name": "python",
   "nbconvert_exporter": "python",
   "pygments_lexer": "ipython3",
   "version": "3.9.7"
  }
 },
 "nbformat": 4,
 "nbformat_minor": 5
}
